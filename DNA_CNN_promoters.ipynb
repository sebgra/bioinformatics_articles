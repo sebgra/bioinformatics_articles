{
  "cells": [
    {
      "cell_type": "markdown",
      "metadata": {
        "id": "uAMgdb2D7_Ic"
      },
      "source": [
        "Inspired by : https://www.kaggle.com/code/zakarii/dna-sequence-classification-cnn-gru"
      ]
    },
    {
      "cell_type": "markdown",
      "metadata": {
        "id": "bLYa8Hr6dU3d"
      },
      "source": [
        "# Mount drive"
      ]
    },
    {
      "cell_type": "code",
      "execution_count": null,
      "metadata": {
        "colab": {
          "base_uri": "https://localhost:8080/"
        },
        "id": "w9tDjrABQ-c6",
        "outputId": "b4098fee-fa86-46b7-a0c6-51fb21ddaec0"
      },
      "outputs": [
        {
          "output_type": "stream",
          "name": "stdout",
          "text": [
            "Drive already mounted at /content/drive; to attempt to forcibly remount, call drive.mount(\"/content/drive\", force_remount=True).\n"
          ]
        }
      ],
      "source": [
        "from google.colab import drive\n",
        "drive.mount('/content/drive')\n"
      ]
    },
    {
      "cell_type": "code",
      "execution_count": null,
      "metadata": {
        "id": "K29WHyOydgOp"
      },
      "outputs": [],
      "source": [
        "work_folder = \"/content/drive/MyDrive/Promoters_classification/\"\n",
        "non_promoters_set = work_folder + \"NonPromoterSequence.txt\"\n",
        "promoter_set = work_folder + \"PromoterSequence.txt\"\n",
        "models_folder = \"/content/drive/MyDrive/Promoters_classification/models/\"\n"
      ]
    },
    {
      "cell_type": "markdown",
      "metadata": {
        "id": "EFUOTv6WeFLa"
      },
      "source": [
        "# Import libraries"
      ]
    },
    {
      "cell_type": "code",
      "execution_count": null,
      "metadata": {
        "id": "oBwveEdMeE1i"
      },
      "outputs": [],
      "source": [
        "import numpy as np\n",
        "import pandas as pd\n",
        "import matplotlib.pyplot as plt\n",
        "import  tensorflow as tf\n",
        "import keras\n",
        "from keras.layers import Dense, Dropout, Flatten, Conv1D, MaxPooling1D\n",
        "from keras import regularizers\n",
        "from keras.callbacks import EarlyStopping, ModelCheckpoint\n",
        "from keras.wrappers.scikit_learn import KerasClassifier\n",
        "from sklearn.model_selection import train_test_split"
      ]
    },
    {
      "cell_type": "markdown",
      "metadata": {
        "id": "7Nwa5YKemaTt"
      },
      "source": [
        "## Loading and cleaning non promoters sequences set"
      ]
    },
    {
      "cell_type": "code",
      "execution_count": null,
      "metadata": {
        "colab": {
          "base_uri": "https://localhost:8080/",
          "height": 442
        },
        "id": "cUbEQisfeB0r",
        "outputId": "a42dd96b-c554-45fb-d6d0-a5056bb0a21c"
      },
      "outputs": [
        {
          "output_type": "display_data",
          "data": {
            "text/plain": [
              "                                                sequence  label\n",
              "0      TAATTACATTATTTTTTTATTTACGAATTTGTTATTCCGCTTTTAT...      0\n",
              "1      ATTTTTACAAGAACAAGACATTTAACTTTAACTTTATCTTTAGCTT...      0\n",
              "2      AGAGATAGGTGGGTCTGTAACACTCGAATCAAAAACAATATTAAGA...      0\n",
              "3      TATGTATATAGAGATAGGCGTTGCCAATAACTTTTGCGTTTTTTGC...      0\n",
              "4      AGAAATAATAGCTAGAGCAAAAAACAGCTTAGAACGGCTGATGCTC...      0\n",
              "...                                                  ...    ...\n",
              "11295  TGGTAAAAAATTGTACACCTAACTAGTGCCTTCATGTATACCACCA...      0\n",
              "11296  AGTGCAACTGGAGCCGTGCCGTGACCCACAGAGATCGCCCACTCGA...      0\n",
              "11297  GCATGGATTTCATATTATCTTAATCGACTTGCTTTTATAAAATAGG...      0\n",
              "11298  GTGACCAGGTTTTGCTCTAATGCGAAGTACGGATTGGGTAGAGATA...      0\n",
              "11299  TCATATTGAAAATTGATAAGATTGATATTAACGTAGCAAAGAAAGC...      0\n",
              "\n",
              "[11300 rows x 2 columns]"
            ],
            "text/html": [
              "\n",
              "  <div id=\"df-01e79997-ffba-4cd4-9ac2-1bca16fdc0d8\">\n",
              "    <div class=\"colab-df-container\">\n",
              "      <div>\n",
              "<style scoped>\n",
              "    .dataframe tbody tr th:only-of-type {\n",
              "        vertical-align: middle;\n",
              "    }\n",
              "\n",
              "    .dataframe tbody tr th {\n",
              "        vertical-align: top;\n",
              "    }\n",
              "\n",
              "    .dataframe thead th {\n",
              "        text-align: right;\n",
              "    }\n",
              "</style>\n",
              "<table border=\"1\" class=\"dataframe\">\n",
              "  <thead>\n",
              "    <tr style=\"text-align: right;\">\n",
              "      <th></th>\n",
              "      <th>sequence</th>\n",
              "      <th>label</th>\n",
              "    </tr>\n",
              "  </thead>\n",
              "  <tbody>\n",
              "    <tr>\n",
              "      <th>0</th>\n",
              "      <td>TAATTACATTATTTTTTTATTTACGAATTTGTTATTCCGCTTTTAT...</td>\n",
              "      <td>0</td>\n",
              "    </tr>\n",
              "    <tr>\n",
              "      <th>1</th>\n",
              "      <td>ATTTTTACAAGAACAAGACATTTAACTTTAACTTTATCTTTAGCTT...</td>\n",
              "      <td>0</td>\n",
              "    </tr>\n",
              "    <tr>\n",
              "      <th>2</th>\n",
              "      <td>AGAGATAGGTGGGTCTGTAACACTCGAATCAAAAACAATATTAAGA...</td>\n",
              "      <td>0</td>\n",
              "    </tr>\n",
              "    <tr>\n",
              "      <th>3</th>\n",
              "      <td>TATGTATATAGAGATAGGCGTTGCCAATAACTTTTGCGTTTTTTGC...</td>\n",
              "      <td>0</td>\n",
              "    </tr>\n",
              "    <tr>\n",
              "      <th>4</th>\n",
              "      <td>AGAAATAATAGCTAGAGCAAAAAACAGCTTAGAACGGCTGATGCTC...</td>\n",
              "      <td>0</td>\n",
              "    </tr>\n",
              "    <tr>\n",
              "      <th>...</th>\n",
              "      <td>...</td>\n",
              "      <td>...</td>\n",
              "    </tr>\n",
              "    <tr>\n",
              "      <th>11295</th>\n",
              "      <td>TGGTAAAAAATTGTACACCTAACTAGTGCCTTCATGTATACCACCA...</td>\n",
              "      <td>0</td>\n",
              "    </tr>\n",
              "    <tr>\n",
              "      <th>11296</th>\n",
              "      <td>AGTGCAACTGGAGCCGTGCCGTGACCCACAGAGATCGCCCACTCGA...</td>\n",
              "      <td>0</td>\n",
              "    </tr>\n",
              "    <tr>\n",
              "      <th>11297</th>\n",
              "      <td>GCATGGATTTCATATTATCTTAATCGACTTGCTTTTATAAAATAGG...</td>\n",
              "      <td>0</td>\n",
              "    </tr>\n",
              "    <tr>\n",
              "      <th>11298</th>\n",
              "      <td>GTGACCAGGTTTTGCTCTAATGCGAAGTACGGATTGGGTAGAGATA...</td>\n",
              "      <td>0</td>\n",
              "    </tr>\n",
              "    <tr>\n",
              "      <th>11299</th>\n",
              "      <td>TCATATTGAAAATTGATAAGATTGATATTAACGTAGCAAAGAAAGC...</td>\n",
              "      <td>0</td>\n",
              "    </tr>\n",
              "  </tbody>\n",
              "</table>\n",
              "<p>11300 rows × 2 columns</p>\n",
              "</div>\n",
              "      <button class=\"colab-df-convert\" onclick=\"convertToInteractive('df-01e79997-ffba-4cd4-9ac2-1bca16fdc0d8')\"\n",
              "              title=\"Convert this dataframe to an interactive table.\"\n",
              "              style=\"display:none;\">\n",
              "        \n",
              "  <svg xmlns=\"http://www.w3.org/2000/svg\" height=\"24px\"viewBox=\"0 0 24 24\"\n",
              "       width=\"24px\">\n",
              "    <path d=\"M0 0h24v24H0V0z\" fill=\"none\"/>\n",
              "    <path d=\"M18.56 5.44l.94 2.06.94-2.06 2.06-.94-2.06-.94-.94-2.06-.94 2.06-2.06.94zm-11 1L8.5 8.5l.94-2.06 2.06-.94-2.06-.94L8.5 2.5l-.94 2.06-2.06.94zm10 10l.94 2.06.94-2.06 2.06-.94-2.06-.94-.94-2.06-.94 2.06-2.06.94z\"/><path d=\"M17.41 7.96l-1.37-1.37c-.4-.4-.92-.59-1.43-.59-.52 0-1.04.2-1.43.59L10.3 9.45l-7.72 7.72c-.78.78-.78 2.05 0 2.83L4 21.41c.39.39.9.59 1.41.59.51 0 1.02-.2 1.41-.59l7.78-7.78 2.81-2.81c.8-.78.8-2.07 0-2.86zM5.41 20L4 18.59l7.72-7.72 1.47 1.35L5.41 20z\"/>\n",
              "  </svg>\n",
              "      </button>\n",
              "      \n",
              "  <style>\n",
              "    .colab-df-container {\n",
              "      display:flex;\n",
              "      flex-wrap:wrap;\n",
              "      gap: 12px;\n",
              "    }\n",
              "\n",
              "    .colab-df-convert {\n",
              "      background-color: #E8F0FE;\n",
              "      border: none;\n",
              "      border-radius: 50%;\n",
              "      cursor: pointer;\n",
              "      display: none;\n",
              "      fill: #1967D2;\n",
              "      height: 32px;\n",
              "      padding: 0 0 0 0;\n",
              "      width: 32px;\n",
              "    }\n",
              "\n",
              "    .colab-df-convert:hover {\n",
              "      background-color: #E2EBFA;\n",
              "      box-shadow: 0px 1px 2px rgba(60, 64, 67, 0.3), 0px 1px 3px 1px rgba(60, 64, 67, 0.15);\n",
              "      fill: #174EA6;\n",
              "    }\n",
              "\n",
              "    [theme=dark] .colab-df-convert {\n",
              "      background-color: #3B4455;\n",
              "      fill: #D2E3FC;\n",
              "    }\n",
              "\n",
              "    [theme=dark] .colab-df-convert:hover {\n",
              "      background-color: #434B5C;\n",
              "      box-shadow: 0px 1px 3px 1px rgba(0, 0, 0, 0.15);\n",
              "      filter: drop-shadow(0px 1px 2px rgba(0, 0, 0, 0.3));\n",
              "      fill: #FFFFFF;\n",
              "    }\n",
              "  </style>\n",
              "\n",
              "      <script>\n",
              "        const buttonEl =\n",
              "          document.querySelector('#df-01e79997-ffba-4cd4-9ac2-1bca16fdc0d8 button.colab-df-convert');\n",
              "        buttonEl.style.display =\n",
              "          google.colab.kernel.accessAllowed ? 'block' : 'none';\n",
              "\n",
              "        async function convertToInteractive(key) {\n",
              "          const element = document.querySelector('#df-01e79997-ffba-4cd4-9ac2-1bca16fdc0d8');\n",
              "          const dataTable =\n",
              "            await google.colab.kernel.invokeFunction('convertToInteractive',\n",
              "                                                     [key], {});\n",
              "          if (!dataTable) return;\n",
              "\n",
              "          const docLinkHtml = 'Like what you see? Visit the ' +\n",
              "            '<a target=\"_blank\" href=https://colab.research.google.com/notebooks/data_table.ipynb>data table notebook</a>'\n",
              "            + ' to learn more about interactive tables.';\n",
              "          element.innerHTML = '';\n",
              "          dataTable['output_type'] = 'display_data';\n",
              "          await google.colab.output.renderOutput(dataTable, element);\n",
              "          const docLink = document.createElement('div');\n",
              "          docLink.innerHTML = docLinkHtml;\n",
              "          element.appendChild(docLink);\n",
              "        }\n",
              "      </script>\n",
              "    </div>\n",
              "  </div>\n",
              "  "
            ]
          },
          "metadata": {}
        },
        {
          "output_type": "display_data",
          "data": {
            "text/plain": [
              "(11300, 2)"
            ]
          },
          "metadata": {}
        }
      ],
      "source": [
        "df_non_promoters = pd.read_csv(non_promoters_set, sep = '>', )\n",
        "df_non_promoters.dropna(subset=['Unnamed: 0'], how='all', inplace=True)\n",
        "df_non_promoters.reset_index(inplace = True)\n",
        "df_non_promoters.drop(['EP 1 (+) mt:CoI_1; range -400 to -100.', 'index'], axis = 1, inplace=True) #data cleaning after error found\n",
        "df_non_promoters.rename(columns={'Unnamed: 0': \"sequence\"}, inplace = True)\n",
        "df_non_promoters['label'] = 0\n",
        "display(df_non_promoters)\n",
        "display(df_non_promoters.shape)"
      ]
    },
    {
      "cell_type": "markdown",
      "metadata": {
        "id": "o4tEg9Lcmiaj"
      },
      "source": [
        "## Loading and cleaning  promoters sequences set"
      ]
    },
    {
      "cell_type": "code",
      "execution_count": null,
      "metadata": {
        "colab": {
          "base_uri": "https://localhost:8080/",
          "height": 442
        },
        "id": "JBKn7ky3en3w",
        "outputId": "9c68e373-b40c-4e4a-b380-c907dea97742"
      },
      "outputs": [
        {
          "output_type": "display_data",
          "data": {
            "text/plain": [
              "                                                sequence  label\n",
              "0      TTAATTTGTCCTTATTTGATTAAGAAGAATAAATCTTATATATAGA...      1\n",
              "1      ATAGCTCAAATTGCTTTATTAGTATTAGAATCAGCTGTAGCTATAA...      1\n",
              "2      AAGCTTCCCTTTAATGTGCTCCTTGTGAATACAGCATTACAATGCC...      1\n",
              "3      TATGTAGAATCTGTACAAGTATCTGTGTTTGGACAATGGCATGTGT...      1\n",
              "4      ACATATTACTGCATACAGGTCTCAAATTATAAAATGACACTCGTGG...      1\n",
              "...                                                  ...    ...\n",
              "11295  CGACAAAGTTTGATCCATGTGCATTCTTGGCGCCTTATCGATAGCT...      1\n",
              "11296  CATATCTACATCTCGCTTGCTCCTTCCCTTTCGCTGCGTGTGTGTG...      1\n",
              "11297  ATACCGCGGAAGCGCAAAAGTACCAGAATTTCCCTGGTATCGCGCT...      1\n",
              "11298  ATTATTCCGAATTCTTTTATCAGATTTAAATATGGGAAACACTTTA...      1\n",
              "11299  AATTCATTTATACCTGCATTTGTAACTGTACTAAATCTTCAACCAA...      1\n",
              "\n",
              "[11300 rows x 2 columns]"
            ],
            "text/html": [
              "\n",
              "  <div id=\"df-ab3d80a6-c542-4fa0-a512-5b02a2dbacf6\">\n",
              "    <div class=\"colab-df-container\">\n",
              "      <div>\n",
              "<style scoped>\n",
              "    .dataframe tbody tr th:only-of-type {\n",
              "        vertical-align: middle;\n",
              "    }\n",
              "\n",
              "    .dataframe tbody tr th {\n",
              "        vertical-align: top;\n",
              "    }\n",
              "\n",
              "    .dataframe thead th {\n",
              "        text-align: right;\n",
              "    }\n",
              "</style>\n",
              "<table border=\"1\" class=\"dataframe\">\n",
              "  <thead>\n",
              "    <tr style=\"text-align: right;\">\n",
              "      <th></th>\n",
              "      <th>sequence</th>\n",
              "      <th>label</th>\n",
              "    </tr>\n",
              "  </thead>\n",
              "  <tbody>\n",
              "    <tr>\n",
              "      <th>0</th>\n",
              "      <td>TTAATTTGTCCTTATTTGATTAAGAAGAATAAATCTTATATATAGA...</td>\n",
              "      <td>1</td>\n",
              "    </tr>\n",
              "    <tr>\n",
              "      <th>1</th>\n",
              "      <td>ATAGCTCAAATTGCTTTATTAGTATTAGAATCAGCTGTAGCTATAA...</td>\n",
              "      <td>1</td>\n",
              "    </tr>\n",
              "    <tr>\n",
              "      <th>2</th>\n",
              "      <td>AAGCTTCCCTTTAATGTGCTCCTTGTGAATACAGCATTACAATGCC...</td>\n",
              "      <td>1</td>\n",
              "    </tr>\n",
              "    <tr>\n",
              "      <th>3</th>\n",
              "      <td>TATGTAGAATCTGTACAAGTATCTGTGTTTGGACAATGGCATGTGT...</td>\n",
              "      <td>1</td>\n",
              "    </tr>\n",
              "    <tr>\n",
              "      <th>4</th>\n",
              "      <td>ACATATTACTGCATACAGGTCTCAAATTATAAAATGACACTCGTGG...</td>\n",
              "      <td>1</td>\n",
              "    </tr>\n",
              "    <tr>\n",
              "      <th>...</th>\n",
              "      <td>...</td>\n",
              "      <td>...</td>\n",
              "    </tr>\n",
              "    <tr>\n",
              "      <th>11295</th>\n",
              "      <td>CGACAAAGTTTGATCCATGTGCATTCTTGGCGCCTTATCGATAGCT...</td>\n",
              "      <td>1</td>\n",
              "    </tr>\n",
              "    <tr>\n",
              "      <th>11296</th>\n",
              "      <td>CATATCTACATCTCGCTTGCTCCTTCCCTTTCGCTGCGTGTGTGTG...</td>\n",
              "      <td>1</td>\n",
              "    </tr>\n",
              "    <tr>\n",
              "      <th>11297</th>\n",
              "      <td>ATACCGCGGAAGCGCAAAAGTACCAGAATTTCCCTGGTATCGCGCT...</td>\n",
              "      <td>1</td>\n",
              "    </tr>\n",
              "    <tr>\n",
              "      <th>11298</th>\n",
              "      <td>ATTATTCCGAATTCTTTTATCAGATTTAAATATGGGAAACACTTTA...</td>\n",
              "      <td>1</td>\n",
              "    </tr>\n",
              "    <tr>\n",
              "      <th>11299</th>\n",
              "      <td>AATTCATTTATACCTGCATTTGTAACTGTACTAAATCTTCAACCAA...</td>\n",
              "      <td>1</td>\n",
              "    </tr>\n",
              "  </tbody>\n",
              "</table>\n",
              "<p>11300 rows × 2 columns</p>\n",
              "</div>\n",
              "      <button class=\"colab-df-convert\" onclick=\"convertToInteractive('df-ab3d80a6-c542-4fa0-a512-5b02a2dbacf6')\"\n",
              "              title=\"Convert this dataframe to an interactive table.\"\n",
              "              style=\"display:none;\">\n",
              "        \n",
              "  <svg xmlns=\"http://www.w3.org/2000/svg\" height=\"24px\"viewBox=\"0 0 24 24\"\n",
              "       width=\"24px\">\n",
              "    <path d=\"M0 0h24v24H0V0z\" fill=\"none\"/>\n",
              "    <path d=\"M18.56 5.44l.94 2.06.94-2.06 2.06-.94-2.06-.94-.94-2.06-.94 2.06-2.06.94zm-11 1L8.5 8.5l.94-2.06 2.06-.94-2.06-.94L8.5 2.5l-.94 2.06-2.06.94zm10 10l.94 2.06.94-2.06 2.06-.94-2.06-.94-.94-2.06-.94 2.06-2.06.94z\"/><path d=\"M17.41 7.96l-1.37-1.37c-.4-.4-.92-.59-1.43-.59-.52 0-1.04.2-1.43.59L10.3 9.45l-7.72 7.72c-.78.78-.78 2.05 0 2.83L4 21.41c.39.39.9.59 1.41.59.51 0 1.02-.2 1.41-.59l7.78-7.78 2.81-2.81c.8-.78.8-2.07 0-2.86zM5.41 20L4 18.59l7.72-7.72 1.47 1.35L5.41 20z\"/>\n",
              "  </svg>\n",
              "      </button>\n",
              "      \n",
              "  <style>\n",
              "    .colab-df-container {\n",
              "      display:flex;\n",
              "      flex-wrap:wrap;\n",
              "      gap: 12px;\n",
              "    }\n",
              "\n",
              "    .colab-df-convert {\n",
              "      background-color: #E8F0FE;\n",
              "      border: none;\n",
              "      border-radius: 50%;\n",
              "      cursor: pointer;\n",
              "      display: none;\n",
              "      fill: #1967D2;\n",
              "      height: 32px;\n",
              "      padding: 0 0 0 0;\n",
              "      width: 32px;\n",
              "    }\n",
              "\n",
              "    .colab-df-convert:hover {\n",
              "      background-color: #E2EBFA;\n",
              "      box-shadow: 0px 1px 2px rgba(60, 64, 67, 0.3), 0px 1px 3px 1px rgba(60, 64, 67, 0.15);\n",
              "      fill: #174EA6;\n",
              "    }\n",
              "\n",
              "    [theme=dark] .colab-df-convert {\n",
              "      background-color: #3B4455;\n",
              "      fill: #D2E3FC;\n",
              "    }\n",
              "\n",
              "    [theme=dark] .colab-df-convert:hover {\n",
              "      background-color: #434B5C;\n",
              "      box-shadow: 0px 1px 3px 1px rgba(0, 0, 0, 0.15);\n",
              "      filter: drop-shadow(0px 1px 2px rgba(0, 0, 0, 0.3));\n",
              "      fill: #FFFFFF;\n",
              "    }\n",
              "  </style>\n",
              "\n",
              "      <script>\n",
              "        const buttonEl =\n",
              "          document.querySelector('#df-ab3d80a6-c542-4fa0-a512-5b02a2dbacf6 button.colab-df-convert');\n",
              "        buttonEl.style.display =\n",
              "          google.colab.kernel.accessAllowed ? 'block' : 'none';\n",
              "\n",
              "        async function convertToInteractive(key) {\n",
              "          const element = document.querySelector('#df-ab3d80a6-c542-4fa0-a512-5b02a2dbacf6');\n",
              "          const dataTable =\n",
              "            await google.colab.kernel.invokeFunction('convertToInteractive',\n",
              "                                                     [key], {});\n",
              "          if (!dataTable) return;\n",
              "\n",
              "          const docLinkHtml = 'Like what you see? Visit the ' +\n",
              "            '<a target=\"_blank\" href=https://colab.research.google.com/notebooks/data_table.ipynb>data table notebook</a>'\n",
              "            + ' to learn more about interactive tables.';\n",
              "          element.innerHTML = '';\n",
              "          dataTable['output_type'] = 'display_data';\n",
              "          await google.colab.output.renderOutput(dataTable, element);\n",
              "          const docLink = document.createElement('div');\n",
              "          docLink.innerHTML = docLinkHtml;\n",
              "          element.appendChild(docLink);\n",
              "        }\n",
              "      </script>\n",
              "    </div>\n",
              "  </div>\n",
              "  "
            ]
          },
          "metadata": {}
        },
        {
          "output_type": "display_data",
          "data": {
            "text/plain": [
              "(11300, 2)"
            ]
          },
          "metadata": {}
        }
      ],
      "source": [
        "df_promoters = pd.read_csv(promoter_set, sep = '>', )\n",
        "df_promoters.dropna(subset=['Unnamed: 0'], how='all', inplace=True)\n",
        "df_promoters.reset_index(inplace = True)\n",
        "df_promoters.drop(['EP 1 (+) mt:CoI_1; range -100 to 200.', 'index'], axis = 1, inplace=True) #data cleaning after error found\n",
        "df_promoters.rename(columns={'Unnamed: 0': \"sequence\"}, inplace = True)\n",
        "df_promoters['label'] = 1\n",
        "display(df_promoters)\n",
        "display(df_promoters.shape)"
      ]
    },
    {
      "cell_type": "markdown",
      "metadata": {
        "id": "T68sJuZ1mnJe"
      },
      "source": [
        "## Merge non promoters and promoters sequences dataset to perform analyses on"
      ]
    },
    {
      "cell_type": "code",
      "execution_count": null,
      "metadata": {
        "colab": {
          "base_uri": "https://localhost:8080/"
        },
        "id": "GTT0LVwEmkh-",
        "outputId": "b20f3ed6-0cbb-4501-97a2-c29669981470"
      },
      "outputs": [
        {
          "output_type": "stream",
          "name": "stdout",
          "text": [
            "Shape of the full dataset: (22600, 2)\n",
            "                                            sequence  label\n",
            "0  TAATTACATTATTTTTTTATTTACGAATTTGTTATTCCGCTTTTAT...      0\n",
            "1  ATTTTTACAAGAACAAGACATTTAACTTTAACTTTATCTTTAGCTT...      0\n",
            "2  AGAGATAGGTGGGTCTGTAACACTCGAATCAAAAACAATATTAAGA...      0\n",
            "3  TATGTATATAGAGATAGGCGTTGCCAATAACTTTTGCGTTTTTTGC...      0\n",
            "4  AGAAATAATAGCTAGAGCAAAAAACAGCTTAGAACGGCTGATGCTC...      0\n"
          ]
        }
      ],
      "source": [
        "df = pd.concat([df_non_promoters, df_promoters], axis = 0 )\n",
        "print(f\"Shape of the full dataset: {df.shape}\")\n",
        "# df.head(5)\n",
        "print(df.head(5))"
      ]
    },
    {
      "cell_type": "markdown",
      "metadata": {
        "id": "y64gszHFnyBu"
      },
      "source": [
        "## Drop uninformative sequences (containing 'N' nucleotides)"
      ]
    },
    {
      "cell_type": "code",
      "execution_count": null,
      "metadata": {
        "colab": {
          "base_uri": "https://localhost:8080/"
        },
        "id": "zW9gNb83mLDf",
        "outputId": "5face694-e60d-403b-d62f-ebb3d799bb6e"
      },
      "outputs": [
        {
          "output_type": "stream",
          "name": "stdout",
          "text": [
            "Number of sequence to be dropped : 1\n",
            "Rows to be dropped : [1822]\n",
            "Shape of the data before dropping sequences containing Ns : (22600, 2)\n",
            "Shape of the data after dropping sequences containing Ns : (22598, 2)\n"
          ]
        }
      ],
      "source": [
        "nb_sequences_to_drop = 0\n",
        "rows_indexes_to_drop = list()\n",
        "\n",
        "for idx, seq in enumerate(df['sequence']):\n",
        "    if 'N' in seq:\n",
        "      nb_sequences_to_drop +=1\n",
        "      # display(df.loc[df['sequence'] == seq])\n",
        "\n",
        "      rows_indexes_to_drop.append(idx)\n",
        "      \n",
        "\n",
        "\n",
        "print(f\"Number of sequence to be dropped : {nb_sequences_to_drop}\")\n",
        "print(f\"Rows to be dropped : {rows_indexes_to_drop}\")\n",
        "\n",
        "print(f\"Shape of the data before dropping sequences containing Ns : {df.shape}\")\n",
        "\n",
        "df.drop(rows_indexes_to_drop, inplace = True)\n",
        "\n",
        "print(f\"Shape of the data after dropping sequences containing Ns : {df.shape}\")\n"
      ]
    },
    {
      "cell_type": "markdown",
      "metadata": {
        "id": "yiM2Aactof6E"
      },
      "source": [
        "### Encode sequences with one-hot strategy. \n",
        "\n",
        "Each base will be considered as a 4-uplet of binary values (either 0 or 1) to be processed with the CNN.\n",
        "A -> [1,0,0,0]\n",
        "T -> [0,1,0,0]\n",
        "C -> [0,0,1,0]\n",
        "G -> [0,0,0,1]\n",
        "\n"
      ]
    },
    {
      "cell_type": "code",
      "execution_count": null,
      "metadata": {
        "colab": {
          "base_uri": "https://localhost:8080/"
        },
        "id": "KdJWPzOyn9_h",
        "outputId": "67d05f19-1d89-4173-cd1d-9931643ea0b4"
      },
      "outputs": [
        {
          "output_type": "stream",
          "name": "stdout",
          "text": [
            " Shape of one-hot encoded sequences: (22598, 301, 4)\n"
          ]
        }
      ],
      "source": [
        "sequence = list(df.loc[:, 'sequence'])\n",
        "encoded_list = []\n",
        "\n",
        "def encode_seq(s):\n",
        "    Encode = {'A':[1,0,0,0],'T':[0,1,0,0],'C':[0,0,1,0],'G':[0,0,0,1]}\n",
        "    return [Encode[x] for x in s]\n",
        "\n",
        "for i in sequence:\n",
        "    x = encode_seq(i)\n",
        "    encoded_list.append(x)\n",
        "\n",
        "X = np.array(encoded_list)\n",
        "print(f\" Shape of one-hot encoded sequences: {X.shape}\")"
      ]
    },
    {
      "cell_type": "code",
      "execution_count": null,
      "metadata": {
        "colab": {
          "base_uri": "https://localhost:8080/"
        },
        "id": "Dr64S56QSLJg",
        "outputId": "673f72ab-67cc-4172-e89e-2516e4e40c75"
      },
      "outputs": [
        {
          "output_type": "execute_result",
          "data": {
            "text/plain": [
              "0"
            ]
          },
          "metadata": {},
          "execution_count": 9
        }
      ],
      "source": [
        "df.get(\"label\").iloc[0]"
      ]
    },
    {
      "cell_type": "markdown",
      "metadata": {
        "id": "DE13IydyOwZG"
      },
      "source": [
        "## Visualize an encoded sequence"
      ]
    },
    {
      "cell_type": "code",
      "execution_count": null,
      "metadata": {
        "colab": {
          "base_uri": "https://localhost:8080/",
          "height": 187
        },
        "id": "5OM-Nz4ZPiFC",
        "outputId": "222c32fe-323c-4073-8e21-052c480f3575"
      },
      "outputs": [
        {
          "output_type": "display_data",
          "data": {
            "text/plain": [
              "<Figure size 3240x3240 with 1 Axes>"
            ],
            "image/png": "[encoded data removed]"
          },
          "metadata": {
            "needs_background": "light"
          }
        },
        {
          "output_type": "display_data",
          "data": {
            "text/plain": [
              "<Figure size 3240x3240 with 1 Axes>"
            ],
            "image/png": "[encoded data removed]"
          },
          "metadata": {
            "needs_background": "light"
          }
        },
        {
          "output_type": "display_data",
          "data": {
            "text/plain": [
              "<Figure size 3240x3240 with 1 Axes>"
            ],
            "image/png": "[encoded data removed]"
          },
          "metadata": {
            "needs_background": "light"
          }
        }
      ],
      "source": [
        "plt.figure(figsize=(45,45))\n",
        "plt.title(f\"Sequence #0 with label {df.get('label').iloc[0]}\")\n",
        "plt.imshow(X[0].T, cmap = \"binary_r\")\n",
        "plt.yticks([0, 1, 2,3], ['A', 'T', 'C', 'G'] , rotation=0)\n",
        "plt.show()\n",
        "\n",
        "plt.figure(figsize=(45,45))\n",
        "plt.title(f\"Sequence #-1 with label {df.get('label').iloc[-1]}\")\n",
        "plt.imshow(X[-1].T, cmap = \"binary_r\")\n",
        "plt.yticks([0, 1, 2,3], ['A', 'T', 'C', 'G'] , rotation=0)\n",
        "plt.show()\n",
        "\n",
        "plt.figure(figsize=(45,45))\n",
        "plt.title(f\"Sequence #58 with label {df.get('label').iloc[58]}\")\n",
        "plt.imshow(X[58].T, cmap = \"binary_r\")\n",
        "plt.yticks([0, 1, 2,3], ['A', 'T', 'C', 'G'] , rotation=0)\n",
        "plt.show()"
      ]
    },
    {
      "cell_type": "markdown",
      "metadata": {
        "id": "PfI1hO28sdoA"
      },
      "source": [
        "## Reshape sequences dataset and separate sequences from their labels\n"
      ]
    },
    {
      "cell_type": "code",
      "execution_count": null,
      "metadata": {
        "colab": {
          "base_uri": "https://localhost:8080/"
        },
        "id": "RHxyzg4VsdS9",
        "outputId": "54ab99ac-cfd2-4cdc-a007-edcd999d6b5d"
      },
      "outputs": [
        {
          "output_type": "stream",
          "name": "stdout",
          "text": [
            "0    11299\n",
            "1    11299\n",
            "Name: label, dtype: int64\n",
            "Shape of tensor containing sequences one-hot encoded (22598, 301, 4, 1)\n",
            "\n",
            "Shape of tensor containing labels relatives to the sequences : (22598,)\n"
          ]
        }
      ],
      "source": [
        "X = X.reshape(X.shape[0],301, 4, 1) # Tensor containing one-hot encoded sequences wich are promotors or not\n",
        "y = df['label'] # Tensor containing labels for each sequence (0 : sequence is nt a promotor, 1 : sequence is a promotor)\n",
        "print(y.value_counts())\n",
        "\n",
        "\n",
        "print(f\"Shape of tensor containing sequences one-hot encoded {X.shape}\\n\")\n",
        "print(f\"Shape of tensor containing labels relatives to the sequences : {y.shape}\")\n",
        "\n",
        "if(X.shape[0] != y.shape[0]):\n",
        "  raise ValueError('Sequence tensor and lebels tensor need to have corresponding shapes')\n",
        "\n"
      ]
    },
    {
      "cell_type": "markdown",
      "metadata": {
        "id": "grHnJCUEtgFz"
      },
      "source": [
        "## Split data into train, test and validation sets"
      ]
    },
    {
      "cell_type": "code",
      "execution_count": null,
      "metadata": {
        "id": "4XljXEMepTNB"
      },
      "outputs": [],
      "source": [
        "X_train, X_test, y_train, y_test = train_test_split(X, y, random_state = 42, stratify = y, shuffle = True, test_size = 0.2) # Split data into train and test\n",
        "X_test, X_validation, y_test, y_validation = train_test_split(X_test, y_test, random_state = 42, stratify = y_test, shuffle = True, test_size = 0.5) # Split data into test and validation"
      ]
    },
    {
      "cell_type": "code",
      "execution_count": null,
      "metadata": {
        "colab": {
          "base_uri": "https://localhost:8080/"
        },
        "id": "t6apmepB7rl6",
        "outputId": "ef08fdb2-7d01-4b7b-bbd2-c1dbbd69b856"
      },
      "outputs": [
        {
          "output_type": "stream",
          "name": "stdout",
          "text": [
            "0    9039\n",
            "1    9039\n",
            "Name: label, dtype: int64\n",
            "0    1130\n",
            "1    1130\n",
            "Name: label, dtype: int64\n",
            "1    1130\n",
            "0    1130\n",
            "Name: label, dtype: int64\n"
          ]
        }
      ],
      "source": [
        "print(y_train.value_counts())\n",
        "print(y_test.value_counts())\n",
        "print(y_validation.value_counts())"
      ]
    },
    {
      "cell_type": "markdown",
      "source": [
        "## Base model"
      ],
      "metadata": {
        "id": "_ZOeRkjSiCOy"
      }
    },
    {
      "cell_type": "code",
      "source": [
        "model = tf.keras.Sequential()\n",
        "\n",
        "model.add(tf.keras.layers.Conv1D(filters = 27, kernel_size = 4, activation = 'relu', padding = \"valid\", input_shape = (X_train.shape[1], X_train.shape[2])))\n",
        "model.add(tf.keras.layers.MaxPool1D(pool_size=3, strides=None, padding='valid'))\n",
        "model.add(tf.keras.layers.Conv1D(filters = 14, kernel_size = 4, activation = 'relu'))\n",
        "model.add(tf.keras.layers.MaxPool1D(pool_size= 2, strides = None, padding = 'valid'))\n",
        "model.add(tf.keras.layers.Conv1D(filters = 7, kernel_size = 4, activation = 'relu'))\n",
        "model.add(tf.keras.layers.MaxPool1D(pool_size= 2, strides = None, padding = 'valid'))\n",
        "model.add(tf.keras.layers.Flatten())\n",
        "model.add(tf.keras.layers.Dense(units = 1, activation = 'sigmoid'))\n",
        "\n",
        "model.summary()\n",
        "\n",
        "model.compile(loss='binary_crossentropy',\n",
        "              optimizer='sgd',\n",
        "              metrics=['accuracy'])\n",
        "\n",
        "# Set early stopping to avoid overfitting\n",
        "\n",
        "early_stop = keras.callbacks.EarlyStopping(monitor = 'val_accuracy', min_delta = 0.0005, patience=8, \n",
        "                                           restore_best_weights=True )"
      ],
      "metadata": {
        "colab": {
          "base_uri": "https://localhost:8080/"
        },
        "id": "atexpKyliB3i",
        "outputId": "adbc2caa-3e07-4b67-e42a-3edbf7ad0fa6"
      },
      "execution_count": null,
      "outputs": [
        {
          "output_type": "stream",
          "name": "stdout",
          "text": [
            "Model: \"sequential\"\n",
            "_________________________________________________________________\n",
            " Layer (type)                Output Shape              Param #   \n",
            "=================================================================\n",
            " conv1d (Conv1D)             (None, 298, 27)           459       \n",
            "                                                                 \n",
            " max_pooling1d (MaxPooling1D  (None, 99, 27)           0         \n",
            " )                                                               \n",
            "                                                                 \n",
            " conv1d_1 (Conv1D)           (None, 96, 14)            1526      \n",
            "                                                                 \n",
            " max_pooling1d_1 (MaxPooling  (None, 48, 14)           0         \n",
            " 1D)                                                             \n",
            "                                                                 \n",
            " conv1d_2 (Conv1D)           (None, 45, 7)             399       \n",
            "                                                                 \n",
            " max_pooling1d_2 (MaxPooling  (None, 22, 7)            0         \n",
            " 1D)                                                             \n",
            "                                                                 \n",
            " flatten (Flatten)           (None, 154)               0         \n",
            "                                                                 \n",
            " dense (Dense)               (None, 1)                 155       \n",
            "                                                                 \n",
            "=================================================================\n",
            "Total params: 2,539\n",
            "Trainable params: 2,539\n",
            "Non-trainable params: 0\n",
            "_________________________________________________________________\n"
          ]
        }
      ]
    },
    {
      "cell_type": "code",
      "source": [
        "history = model.fit(X_train, y_train, batch_size = 128, validation_data=(X_test, y_test), \n",
        "                        epochs=115)\n",
        "\n",
        "model.save(models_folder)"
      ],
      "metadata": {
        "colab": {
          "base_uri": "https://localhost:8080/"
        },
        "id": "gie3Pj75iKro",
        "outputId": "099742e7-0a6e-4754-dba1-d097ab6e021b"
      },
      "execution_count": null,
      "outputs": [
        {
          "output_type": "stream",
          "name": "stdout",
          "text": [
            "Epoch 1/115\n",
            "142/142 [==============================] - 7s 41ms/step - loss: 0.6914 - accuracy: 0.5257 - val_loss: 0.6841 - val_accuracy: 0.5686\n",
            "Epoch 2/115\n",
            "142/142 [==============================] - 6s 40ms/step - loss: 0.6786 - accuracy: 0.5915 - val_loss: 0.6709 - val_accuracy: 0.6243\n",
            "Epoch 3/115\n",
            "142/142 [==============================] - 6s 39ms/step - loss: 0.6568 - accuracy: 0.6492 - val_loss: 0.6419 - val_accuracy: 0.6695\n",
            "Epoch 4/115\n",
            "142/142 [==============================] - 6s 39ms/step - loss: 0.6148 - accuracy: 0.6968 - val_loss: 0.5944 - val_accuracy: 0.6942\n",
            "Epoch 5/115\n",
            "142/142 [==============================] - 6s 39ms/step - loss: 0.5669 - accuracy: 0.7240 - val_loss: 0.5632 - val_accuracy: 0.7053\n",
            "Epoch 6/115\n",
            "142/142 [==============================] - 6s 39ms/step - loss: 0.5393 - accuracy: 0.7361 - val_loss: 0.5607 - val_accuracy: 0.7066\n",
            "Epoch 7/115\n",
            "142/142 [==============================] - 5s 39ms/step - loss: 0.5261 - accuracy: 0.7433 - val_loss: 0.5447 - val_accuracy: 0.7345\n",
            "Epoch 8/115\n",
            "142/142 [==============================] - 6s 39ms/step - loss: 0.5169 - accuracy: 0.7499 - val_loss: 0.5322 - val_accuracy: 0.7416\n",
            "Epoch 9/115\n",
            "142/142 [==============================] - 6s 39ms/step - loss: 0.5087 - accuracy: 0.7525 - val_loss: 0.5198 - val_accuracy: 0.7407\n",
            "Epoch 10/115\n",
            "142/142 [==============================] - 7s 46ms/step - loss: 0.5027 - accuracy: 0.7576 - val_loss: 0.5154 - val_accuracy: 0.7478\n",
            "Epoch 11/115\n",
            "142/142 [==============================] - 6s 43ms/step - loss: 0.4976 - accuracy: 0.7605 - val_loss: 0.5123 - val_accuracy: 0.7482\n",
            "Epoch 12/115\n",
            "142/142 [==============================] - 6s 39ms/step - loss: 0.4933 - accuracy: 0.7624 - val_loss: 0.5127 - val_accuracy: 0.7549\n",
            "Epoch 13/115\n",
            "142/142 [==============================] - 6s 39ms/step - loss: 0.4882 - accuracy: 0.7676 - val_loss: 0.5168 - val_accuracy: 0.7500\n",
            "Epoch 14/115\n",
            "142/142 [==============================] - 6s 39ms/step - loss: 0.4852 - accuracy: 0.7692 - val_loss: 0.5107 - val_accuracy: 0.7527\n",
            "Epoch 15/115\n",
            "142/142 [==============================] - 6s 39ms/step - loss: 0.4810 - accuracy: 0.7707 - val_loss: 0.5152 - val_accuracy: 0.7491\n",
            "Epoch 16/115\n",
            "142/142 [==============================] - 8s 53ms/step - loss: 0.4775 - accuracy: 0.7738 - val_loss: 0.4944 - val_accuracy: 0.7531\n",
            "Epoch 17/115\n",
            "142/142 [==============================] - 5s 39ms/step - loss: 0.4735 - accuracy: 0.7740 - val_loss: 0.4866 - val_accuracy: 0.7575\n",
            "Epoch 18/115\n",
            "142/142 [==============================] - 5s 39ms/step - loss: 0.4699 - accuracy: 0.7750 - val_loss: 0.4821 - val_accuracy: 0.7619\n",
            "Epoch 19/115\n",
            "142/142 [==============================] - 5s 39ms/step - loss: 0.4664 - accuracy: 0.7779 - val_loss: 0.4864 - val_accuracy: 0.7602\n",
            "Epoch 20/115\n",
            "142/142 [==============================] - 6s 39ms/step - loss: 0.4639 - accuracy: 0.7807 - val_loss: 0.4754 - val_accuracy: 0.7633\n",
            "Epoch 21/115\n",
            "142/142 [==============================] - 5s 39ms/step - loss: 0.4603 - accuracy: 0.7822 - val_loss: 0.4796 - val_accuracy: 0.7611\n",
            "Epoch 22/115\n",
            "142/142 [==============================] - 6s 39ms/step - loss: 0.4578 - accuracy: 0.7843 - val_loss: 0.4707 - val_accuracy: 0.7650\n",
            "Epoch 23/115\n",
            "142/142 [==============================] - 6s 39ms/step - loss: 0.4549 - accuracy: 0.7856 - val_loss: 0.4654 - val_accuracy: 0.7642\n",
            "Epoch 24/115\n",
            "142/142 [==============================] - 6s 39ms/step - loss: 0.4518 - accuracy: 0.7886 - val_loss: 0.4616 - val_accuracy: 0.7673\n",
            "Epoch 25/115\n",
            "142/142 [==============================] - 6s 39ms/step - loss: 0.4494 - accuracy: 0.7905 - val_loss: 0.4749 - val_accuracy: 0.7646\n",
            "Epoch 26/115\n",
            "142/142 [==============================] - 5s 39ms/step - loss: 0.4462 - accuracy: 0.7911 - val_loss: 0.4553 - val_accuracy: 0.7699\n",
            "Epoch 27/115\n",
            "142/142 [==============================] - 6s 39ms/step - loss: 0.4430 - accuracy: 0.7915 - val_loss: 0.4527 - val_accuracy: 0.7712\n",
            "Epoch 28/115\n",
            "142/142 [==============================] - 6s 39ms/step - loss: 0.4406 - accuracy: 0.7933 - val_loss: 0.4493 - val_accuracy: 0.7735\n",
            "Epoch 29/115\n",
            "142/142 [==============================] - 5s 38ms/step - loss: 0.4378 - accuracy: 0.7938 - val_loss: 0.4513 - val_accuracy: 0.7730\n",
            "Epoch 30/115\n",
            "142/142 [==============================] - 6s 39ms/step - loss: 0.4336 - accuracy: 0.7965 - val_loss: 0.4507 - val_accuracy: 0.7730\n",
            "Epoch 31/115\n",
            "142/142 [==============================] - 7s 50ms/step - loss: 0.4304 - accuracy: 0.7991 - val_loss: 0.4603 - val_accuracy: 0.7836\n",
            "Epoch 32/115\n",
            "142/142 [==============================] - 6s 41ms/step - loss: 0.4273 - accuracy: 0.8017 - val_loss: 0.4376 - val_accuracy: 0.7881\n",
            "Epoch 33/115\n",
            "142/142 [==============================] - 6s 39ms/step - loss: 0.4243 - accuracy: 0.8040 - val_loss: 0.4368 - val_accuracy: 0.7858\n",
            "Epoch 34/115\n",
            "142/142 [==============================] - 6s 39ms/step - loss: 0.4209 - accuracy: 0.8048 - val_loss: 0.4476 - val_accuracy: 0.7889\n",
            "Epoch 35/115\n",
            "142/142 [==============================] - 6s 39ms/step - loss: 0.4189 - accuracy: 0.8067 - val_loss: 0.4339 - val_accuracy: 0.7912\n",
            "Epoch 36/115\n",
            "142/142 [==============================] - 6s 39ms/step - loss: 0.4145 - accuracy: 0.8104 - val_loss: 0.4260 - val_accuracy: 0.8022\n",
            "Epoch 37/115\n",
            "142/142 [==============================] - 6s 39ms/step - loss: 0.4127 - accuracy: 0.8102 - val_loss: 0.4230 - val_accuracy: 0.8031\n",
            "Epoch 38/115\n",
            "142/142 [==============================] - 6s 39ms/step - loss: 0.4082 - accuracy: 0.8129 - val_loss: 0.4210 - val_accuracy: 0.8058\n",
            "Epoch 39/115\n",
            "142/142 [==============================] - 6s 39ms/step - loss: 0.4062 - accuracy: 0.8162 - val_loss: 0.4191 - val_accuracy: 0.8044\n",
            "Epoch 40/115\n",
            "142/142 [==============================] - 5s 39ms/step - loss: 0.4035 - accuracy: 0.8178 - val_loss: 0.4539 - val_accuracy: 0.7805\n",
            "Epoch 41/115\n",
            "142/142 [==============================] - 6s 39ms/step - loss: 0.4013 - accuracy: 0.8185 - val_loss: 0.4173 - val_accuracy: 0.8027\n",
            "Epoch 42/115\n",
            "142/142 [==============================] - 6s 42ms/step - loss: 0.3982 - accuracy: 0.8192 - val_loss: 0.4120 - val_accuracy: 0.8080\n",
            "Epoch 43/115\n",
            "142/142 [==============================] - 7s 49ms/step - loss: 0.3956 - accuracy: 0.8218 - val_loss: 0.4244 - val_accuracy: 0.8027\n",
            "Epoch 44/115\n",
            "142/142 [==============================] - 6s 39ms/step - loss: 0.3935 - accuracy: 0.8234 - val_loss: 0.4099 - val_accuracy: 0.8119\n",
            "Epoch 45/115\n",
            "142/142 [==============================] - 5s 39ms/step - loss: 0.3904 - accuracy: 0.8258 - val_loss: 0.4066 - val_accuracy: 0.8102\n",
            "Epoch 46/115\n",
            "142/142 [==============================] - 5s 39ms/step - loss: 0.3881 - accuracy: 0.8261 - val_loss: 0.4045 - val_accuracy: 0.8128\n",
            "Epoch 47/115\n",
            "142/142 [==============================] - 5s 39ms/step - loss: 0.3858 - accuracy: 0.8268 - val_loss: 0.4267 - val_accuracy: 0.8027\n",
            "Epoch 48/115\n",
            "142/142 [==============================] - 5s 38ms/step - loss: 0.3840 - accuracy: 0.8272 - val_loss: 0.4354 - val_accuracy: 0.7973\n",
            "Epoch 49/115\n",
            "142/142 [==============================] - 5s 39ms/step - loss: 0.3809 - accuracy: 0.8296 - val_loss: 0.4048 - val_accuracy: 0.8115\n",
            "Epoch 50/115\n",
            "142/142 [==============================] - 5s 38ms/step - loss: 0.3781 - accuracy: 0.8318 - val_loss: 0.4160 - val_accuracy: 0.8102\n",
            "Epoch 51/115\n",
            "142/142 [==============================] - 5s 38ms/step - loss: 0.3771 - accuracy: 0.8311 - val_loss: 0.3955 - val_accuracy: 0.8155\n",
            "Epoch 52/115\n",
            "142/142 [==============================] - 5s 39ms/step - loss: 0.3748 - accuracy: 0.8328 - val_loss: 0.3948 - val_accuracy: 0.8155\n",
            "Epoch 53/115\n",
            "142/142 [==============================] - 5s 38ms/step - loss: 0.3717 - accuracy: 0.8344 - val_loss: 0.4051 - val_accuracy: 0.8177\n",
            "Epoch 54/115\n",
            "142/142 [==============================] - 5s 39ms/step - loss: 0.3693 - accuracy: 0.8370 - val_loss: 0.4238 - val_accuracy: 0.8093\n",
            "Epoch 55/115\n",
            "142/142 [==============================] - 5s 39ms/step - loss: 0.3677 - accuracy: 0.8364 - val_loss: 0.4056 - val_accuracy: 0.8133\n",
            "Epoch 56/115\n",
            "142/142 [==============================] - 5s 39ms/step - loss: 0.3652 - accuracy: 0.8378 - val_loss: 0.3891 - val_accuracy: 0.8212\n",
            "Epoch 57/115\n",
            "142/142 [==============================] - 5s 39ms/step - loss: 0.3645 - accuracy: 0.8364 - val_loss: 0.4627 - val_accuracy: 0.7823\n",
            "Epoch 58/115\n",
            "142/142 [==============================] - 7s 53ms/step - loss: 0.3630 - accuracy: 0.8403 - val_loss: 0.3844 - val_accuracy: 0.8243\n",
            "Epoch 59/115\n",
            "142/142 [==============================] - 5s 38ms/step - loss: 0.3598 - accuracy: 0.8409 - val_loss: 0.3945 - val_accuracy: 0.8190\n",
            "Epoch 60/115\n",
            "142/142 [==============================] - 5s 38ms/step - loss: 0.3574 - accuracy: 0.8436 - val_loss: 0.3827 - val_accuracy: 0.8217\n",
            "Epoch 61/115\n",
            "142/142 [==============================] - 5s 39ms/step - loss: 0.3560 - accuracy: 0.8435 - val_loss: 0.3948 - val_accuracy: 0.8173\n",
            "Epoch 62/115\n",
            "142/142 [==============================] - 5s 39ms/step - loss: 0.3535 - accuracy: 0.8451 - val_loss: 0.3913 - val_accuracy: 0.8217\n",
            "Epoch 63/115\n",
            "142/142 [==============================] - 5s 38ms/step - loss: 0.3515 - accuracy: 0.8455 - val_loss: 0.3947 - val_accuracy: 0.8239\n",
            "Epoch 64/115\n",
            "142/142 [==============================] - 5s 38ms/step - loss: 0.3513 - accuracy: 0.8452 - val_loss: 0.3996 - val_accuracy: 0.8181\n",
            "Epoch 65/115\n",
            "142/142 [==============================] - 6s 39ms/step - loss: 0.3489 - accuracy: 0.8483 - val_loss: 0.3757 - val_accuracy: 0.8261\n",
            "Epoch 66/115\n",
            "142/142 [==============================] - 5s 38ms/step - loss: 0.3497 - accuracy: 0.8469 - val_loss: 0.3757 - val_accuracy: 0.8265\n",
            "Epoch 67/115\n",
            "142/142 [==============================] - 5s 38ms/step - loss: 0.3449 - accuracy: 0.8502 - val_loss: 0.3982 - val_accuracy: 0.8168\n",
            "Epoch 68/115\n",
            "142/142 [==============================] - 5s 39ms/step - loss: 0.3445 - accuracy: 0.8504 - val_loss: 0.3729 - val_accuracy: 0.8270\n",
            "Epoch 69/115\n",
            "142/142 [==============================] - 6s 39ms/step - loss: 0.3420 - accuracy: 0.8497 - val_loss: 0.3902 - val_accuracy: 0.8248\n",
            "Epoch 70/115\n",
            "142/142 [==============================] - 7s 52ms/step - loss: 0.3400 - accuracy: 0.8521 - val_loss: 0.3709 - val_accuracy: 0.8296\n",
            "Epoch 71/115\n",
            "142/142 [==============================] - 5s 38ms/step - loss: 0.3383 - accuracy: 0.8519 - val_loss: 0.3891 - val_accuracy: 0.8239\n",
            "Epoch 72/115\n",
            "142/142 [==============================] - 5s 38ms/step - loss: 0.3413 - accuracy: 0.8512 - val_loss: 0.4019 - val_accuracy: 0.8159\n",
            "Epoch 73/115\n",
            "142/142 [==============================] - 5s 39ms/step - loss: 0.3371 - accuracy: 0.8538 - val_loss: 0.4016 - val_accuracy: 0.8270\n",
            "Epoch 74/115\n",
            "142/142 [==============================] - 5s 38ms/step - loss: 0.3352 - accuracy: 0.8539 - val_loss: 0.3669 - val_accuracy: 0.8296\n",
            "Epoch 75/115\n",
            "142/142 [==============================] - 5s 38ms/step - loss: 0.3341 - accuracy: 0.8546 - val_loss: 0.4315 - val_accuracy: 0.8102\n",
            "Epoch 76/115\n",
            "142/142 [==============================] - 5s 38ms/step - loss: 0.3326 - accuracy: 0.8572 - val_loss: 0.4033 - val_accuracy: 0.8257\n",
            "Epoch 77/115\n",
            "142/142 [==============================] - 5s 38ms/step - loss: 0.3320 - accuracy: 0.8558 - val_loss: 0.3676 - val_accuracy: 0.8327\n",
            "Epoch 78/115\n",
            "142/142 [==============================] - 5s 38ms/step - loss: 0.3311 - accuracy: 0.8575 - val_loss: 0.4574 - val_accuracy: 0.7823\n",
            "Epoch 79/115\n",
            "142/142 [==============================] - 5s 38ms/step - loss: 0.3314 - accuracy: 0.8588 - val_loss: 0.3692 - val_accuracy: 0.8310\n",
            "Epoch 80/115\n",
            "142/142 [==============================] - 5s 38ms/step - loss: 0.3265 - accuracy: 0.8608 - val_loss: 0.4168 - val_accuracy: 0.8186\n",
            "Epoch 81/115\n",
            "142/142 [==============================] - 5s 39ms/step - loss: 0.3275 - accuracy: 0.8600 - val_loss: 0.3958 - val_accuracy: 0.8327\n",
            "Epoch 82/115\n",
            "142/142 [==============================] - 5s 38ms/step - loss: 0.3263 - accuracy: 0.8607 - val_loss: 0.4034 - val_accuracy: 0.8279\n",
            "Epoch 83/115\n",
            "142/142 [==============================] - 5s 38ms/step - loss: 0.3238 - accuracy: 0.8612 - val_loss: 0.3605 - val_accuracy: 0.8336\n",
            "Epoch 84/115\n",
            "142/142 [==============================] - 5s 38ms/step - loss: 0.3239 - accuracy: 0.8618 - val_loss: 0.3589 - val_accuracy: 0.8381\n",
            "Epoch 85/115\n",
            "142/142 [==============================] - 5s 38ms/step - loss: 0.3219 - accuracy: 0.8640 - val_loss: 0.4608 - val_accuracy: 0.7810\n",
            "Epoch 86/115\n",
            "142/142 [==============================] - 7s 48ms/step - loss: 0.3201 - accuracy: 0.8642 - val_loss: 0.3611 - val_accuracy: 0.8385\n",
            "Epoch 87/115\n",
            "142/142 [==============================] - 6s 44ms/step - loss: 0.3178 - accuracy: 0.8669 - val_loss: 0.3569 - val_accuracy: 0.8389\n",
            "Epoch 88/115\n",
            "142/142 [==============================] - 6s 39ms/step - loss: 0.3189 - accuracy: 0.8651 - val_loss: 0.3609 - val_accuracy: 0.8345\n",
            "Epoch 89/115\n",
            "142/142 [==============================] - 6s 39ms/step - loss: 0.3173 - accuracy: 0.8661 - val_loss: 0.4093 - val_accuracy: 0.8230\n",
            "Epoch 90/115\n",
            "142/142 [==============================] - 5s 39ms/step - loss: 0.3165 - accuracy: 0.8660 - val_loss: 0.3777 - val_accuracy: 0.8376\n",
            "Epoch 91/115\n",
            "142/142 [==============================] - 6s 39ms/step - loss: 0.3166 - accuracy: 0.8665 - val_loss: 0.3557 - val_accuracy: 0.8412\n",
            "Epoch 92/115\n",
            "142/142 [==============================] - 5s 38ms/step - loss: 0.3143 - accuracy: 0.8680 - val_loss: 0.3540 - val_accuracy: 0.8429\n",
            "Epoch 93/115\n",
            "142/142 [==============================] - 5s 39ms/step - loss: 0.3118 - accuracy: 0.8693 - val_loss: 0.3517 - val_accuracy: 0.8460\n",
            "Epoch 94/115\n",
            "142/142 [==============================] - 5s 39ms/step - loss: 0.3134 - accuracy: 0.8693 - val_loss: 0.3558 - val_accuracy: 0.8412\n",
            "Epoch 95/115\n",
            "142/142 [==============================] - 5s 39ms/step - loss: 0.3133 - accuracy: 0.8679 - val_loss: 0.3902 - val_accuracy: 0.8208\n",
            "Epoch 96/115\n",
            "142/142 [==============================] - 6s 39ms/step - loss: 0.3108 - accuracy: 0.8694 - val_loss: 0.3698 - val_accuracy: 0.8358\n",
            "Epoch 97/115\n",
            "142/142 [==============================] - 7s 52ms/step - loss: 0.3112 - accuracy: 0.8695 - val_loss: 0.5020 - val_accuracy: 0.7628\n",
            "Epoch 98/115\n",
            "142/142 [==============================] - 5s 38ms/step - loss: 0.3102 - accuracy: 0.8702 - val_loss: 0.3774 - val_accuracy: 0.8274\n",
            "Epoch 99/115\n",
            "142/142 [==============================] - 5s 39ms/step - loss: 0.3064 - accuracy: 0.8721 - val_loss: 0.3919 - val_accuracy: 0.8336\n",
            "Epoch 100/115\n",
            "142/142 [==============================] - 6s 39ms/step - loss: 0.3051 - accuracy: 0.8733 - val_loss: 0.4396 - val_accuracy: 0.8124\n",
            "Epoch 101/115\n",
            "142/142 [==============================] - 5s 39ms/step - loss: 0.3066 - accuracy: 0.8714 - val_loss: 0.3607 - val_accuracy: 0.8336\n",
            "Epoch 102/115\n",
            "142/142 [==============================] - 6s 39ms/step - loss: 0.3025 - accuracy: 0.8742 - val_loss: 0.3502 - val_accuracy: 0.8456\n",
            "Epoch 103/115\n",
            "142/142 [==============================] - 5s 38ms/step - loss: 0.3023 - accuracy: 0.8734 - val_loss: 0.3493 - val_accuracy: 0.8442\n",
            "Epoch 104/115\n",
            "142/142 [==============================] - 5s 39ms/step - loss: 0.3029 - accuracy: 0.8740 - val_loss: 0.4028 - val_accuracy: 0.8159\n",
            "Epoch 105/115\n",
            "142/142 [==============================] - 5s 38ms/step - loss: 0.3024 - accuracy: 0.8746 - val_loss: 0.4254 - val_accuracy: 0.8018\n",
            "Epoch 106/115\n",
            "142/142 [==============================] - 5s 39ms/step - loss: 0.3021 - accuracy: 0.8735 - val_loss: 0.3466 - val_accuracy: 0.8456\n",
            "Epoch 107/115\n",
            "142/142 [==============================] - 6s 39ms/step - loss: 0.3010 - accuracy: 0.8745 - val_loss: 0.3709 - val_accuracy: 0.8385\n",
            "Epoch 108/115\n",
            "142/142 [==============================] - 5s 39ms/step - loss: 0.3008 - accuracy: 0.8747 - val_loss: 0.3476 - val_accuracy: 0.8460\n",
            "Epoch 109/115\n",
            "142/142 [==============================] - 5s 39ms/step - loss: 0.2989 - accuracy: 0.8755 - val_loss: 0.4252 - val_accuracy: 0.8044\n",
            "Epoch 110/115\n",
            "142/142 [==============================] - 6s 39ms/step - loss: 0.2995 - accuracy: 0.8758 - val_loss: 0.3667 - val_accuracy: 0.8323\n",
            "Epoch 111/115\n",
            "142/142 [==============================] - 5s 39ms/step - loss: 0.2961 - accuracy: 0.8783 - val_loss: 0.3464 - val_accuracy: 0.8513\n",
            "Epoch 112/115\n",
            "142/142 [==============================] - 5s 39ms/step - loss: 0.2973 - accuracy: 0.8758 - val_loss: 0.3535 - val_accuracy: 0.8447\n",
            "Epoch 113/115\n",
            "142/142 [==============================] - 8s 53ms/step - loss: 0.2965 - accuracy: 0.8760 - val_loss: 0.3767 - val_accuracy: 0.8341\n",
            "Epoch 114/115\n",
            "142/142 [==============================] - 5s 39ms/step - loss: 0.2959 - accuracy: 0.8758 - val_loss: 0.3475 - val_accuracy: 0.8473\n",
            "Epoch 115/115\n",
            "142/142 [==============================] - 5s 39ms/step - loss: 0.2964 - accuracy: 0.8778 - val_loss: 0.3925 - val_accuracy: 0.8310\n"
          ]
        },
        {
          "output_type": "stream",
          "name": "stderr",
          "text": [
            "WARNING:absl:Found untraced functions such as _jit_compiled_convolution_op, _jit_compiled_convolution_op, _jit_compiled_convolution_op while saving (showing 3 of 3). These functions will not be directly callable after loading.\n"
          ]
        }
      ]
    },
    {
      "cell_type": "code",
      "source": [
        "# Evaluate the model\n",
        "loss, acc = model.evaluate(X_validation, y_validation, verbose=2)\n",
        "print(\"Untrained model, accuracy: {:5.2f}%\".format(100 * acc))"
      ],
      "metadata": {
        "colab": {
          "base_uri": "https://localhost:8080/"
        },
        "id": "yBHPQZfjiOQG",
        "outputId": "7ab1ff7d-37de-413e-cc23-a0a150b9c876"
      },
      "execution_count": null,
      "outputs": [
        {
          "output_type": "stream",
          "name": "stdout",
          "text": [
            "71/71 - 0s - loss: 0.3656 - accuracy: 0.8403 - 286ms/epoch - 4ms/step\n",
            "Untrained model, accuracy: 84.03%\n"
          ]
        }
      ]
    },
    {
      "cell_type": "code",
      "source": [
        "plt.figure(figsize = (10,4))\n",
        "plt.subplot(121)\n",
        "plt.plot(history.epoch, history.history[\"loss\"], 'g', label='Training loss')\n",
        "plt.plot(history.epoch, history.history[\"val_loss\"], 'b', label='Test loss')\n",
        "plt.title('Training loss')\n",
        "plt.xlabel('Epochs')\n",
        "plt.ylabel('Loss')\n",
        "plt.legend()\n",
        "\n",
        "plt.subplot(122)\n",
        "plt.plot(history.epoch, history.history[\"accuracy\"], 'r', label='Training accuracy')\n",
        "plt.plot(history.epoch, history.history[\"val_accuracy\"], 'orange', label='Test accuracy')\n",
        "plt.title('Training accuracy')\n",
        "plt.xlabel('Epochs')\n",
        "plt.ylabel('Accuracy')\n",
        "plt.legend()\n",
        "plt.savefig(work_folder + \"base_model_deep_no_dropout_sgd.png\")\n",
        "plt.show()"
      ],
      "metadata": {
        "colab": {
          "base_uri": "https://localhost:8080/",
          "height": 295
        },
        "id": "16tVoZ2yiOjy",
        "outputId": "e743d534-6d61-413d-97dd-8a7fc656c5c3"
      },
      "execution_count": null,
      "outputs": [
        {
          "output_type": "display_data",
          "data": {
            "text/plain": [
              "<Figure size 720x288 with 2 Axes>"
            ],
            "image/png": "[encoded data removed]"
          },
          "metadata": {
            "needs_background": "light"
          }
        }
      ]
    },
    {
      "cell_type": "markdown",
      "source": [
        "# Adam Model"
      ],
      "metadata": {
        "id": "1IzdSIqaifaX"
      }
    },
    {
      "cell_type": "code",
      "source": [
        "model_adam = tf.keras.Sequential()\n",
        "\n",
        "model_adam.add(tf.keras.layers.Conv1D(filters = 27, kernel_size = 4, activation = 'relu', padding = \"valid\", input_shape = (X_train.shape[1], X_train.shape[2])))\n",
        "model_adam.add(tf.keras.layers.MaxPool1D(pool_size=3, strides=None, padding='valid'))\n",
        "model_adam.add(tf.keras.layers.Conv1D(filters = 14, kernel_size = 4, activation = 'relu'))\n",
        "model_adam.add(tf.keras.layers.MaxPool1D(pool_size= 2, strides = None, padding = 'valid'))\n",
        "model_adam.add(tf.keras.layers.Conv1D(filters = 7, kernel_size = 4, activation = 'relu'))\n",
        "model_adam.add(tf.keras.layers.MaxPool1D(pool_size= 2, strides = None, padding = 'valid'))\n",
        "model_adam.add(tf.keras.layers.Flatten())\n",
        "model_adam.add(tf.keras.layers.Dense(units = 1, activation = 'sigmoid'))\n",
        "\n",
        "model_adam.summary()\n",
        "\n",
        "model_adam.compile(loss='binary_crossentropy',\n",
        "              optimizer='adam',\n",
        "              metrics=['accuracy'])\n",
        "\n",
        "# Set early stopping to avoid overfitting\n",
        "\n",
        "early_stop = keras.callbacks.EarlyStopping(monitor = 'val_accuracy', min_delta = 0.0005, patience=8, \n",
        "                                           restore_best_weights=True )"
      ],
      "metadata": {
        "colab": {
          "base_uri": "https://localhost:8080/"
        },
        "id": "003_GERliZ7Q",
        "outputId": "0d5972d6-7383-4539-c039-035d2d507476"
      },
      "execution_count": null,
      "outputs": [
        {
          "output_type": "stream",
          "name": "stdout",
          "text": [
            "Model: \"sequential_1\"\n",
            "_________________________________________________________________\n",
            " Layer (type)                Output Shape              Param #   \n",
            "=================================================================\n",
            " conv1d_3 (Conv1D)           (None, 298, 27)           459       \n",
            "                                                                 \n",
            " max_pooling1d_3 (MaxPooling  (None, 99, 27)           0         \n",
            " 1D)                                                             \n",
            "                                                                 \n",
            " conv1d_4 (Conv1D)           (None, 96, 14)            1526      \n",
            "                                                                 \n",
            " max_pooling1d_4 (MaxPooling  (None, 48, 14)           0         \n",
            " 1D)                                                             \n",
            "                                                                 \n",
            " conv1d_5 (Conv1D)           (None, 45, 7)             399       \n",
            "                                                                 \n",
            " max_pooling1d_5 (MaxPooling  (None, 22, 7)            0         \n",
            " 1D)                                                             \n",
            "                                                                 \n",
            " flatten_1 (Flatten)         (None, 154)               0         \n",
            "                                                                 \n",
            " dense_1 (Dense)             (None, 1)                 155       \n",
            "                                                                 \n",
            "=================================================================\n",
            "Total params: 2,539\n",
            "Trainable params: 2,539\n",
            "Non-trainable params: 0\n",
            "_________________________________________________________________\n"
          ]
        }
      ]
    },
    {
      "cell_type": "code",
      "source": [
        "history_adam = model_adam.fit(X_train, y_train, batch_size = 128, validation_data=(X_test, y_test), \n",
        "                        epochs=115)\n",
        "\n",
        "\n",
        "model_adam.save(models_folder)"
      ],
      "metadata": {
        "colab": {
          "base_uri": "https://localhost:8080/"
        },
        "id": "vSR_SdnIio0c",
        "outputId": "951398b3-5e3c-443b-d954-dfe2de3b7c29"
      },
      "execution_count": null,
      "outputs": [
        {
          "output_type": "stream",
          "name": "stdout",
          "text": [
            "Epoch 1/115\n",
            "142/142 [==============================] - 6s 41ms/step - loss: 0.6041 - accuracy: 0.6758 - val_loss: 0.5378 - val_accuracy: 0.7345\n",
            "Epoch 2/115\n",
            "142/142 [==============================] - 6s 40ms/step - loss: 0.4997 - accuracy: 0.7606 - val_loss: 0.5012 - val_accuracy: 0.7522\n",
            "Epoch 3/115\n",
            "142/142 [==============================] - 6s 40ms/step - loss: 0.4692 - accuracy: 0.7795 - val_loss: 0.4668 - val_accuracy: 0.7761\n",
            "Epoch 4/115\n",
            "142/142 [==============================] - 6s 40ms/step - loss: 0.4406 - accuracy: 0.7956 - val_loss: 0.4514 - val_accuracy: 0.7814\n",
            "Epoch 5/115\n",
            "142/142 [==============================] - 6s 40ms/step - loss: 0.4149 - accuracy: 0.8130 - val_loss: 0.4157 - val_accuracy: 0.8093\n",
            "Epoch 6/115\n",
            "142/142 [==============================] - 6s 40ms/step - loss: 0.3980 - accuracy: 0.8222 - val_loss: 0.4133 - val_accuracy: 0.8035\n",
            "Epoch 7/115\n",
            "142/142 [==============================] - 6s 42ms/step - loss: 0.3884 - accuracy: 0.8265 - val_loss: 0.4010 - val_accuracy: 0.8208\n",
            "Epoch 8/115\n",
            "142/142 [==============================] - 7s 51ms/step - loss: 0.3785 - accuracy: 0.8346 - val_loss: 0.3831 - val_accuracy: 0.8296\n",
            "Epoch 9/115\n",
            "142/142 [==============================] - 6s 41ms/step - loss: 0.3724 - accuracy: 0.8368 - val_loss: 0.3795 - val_accuracy: 0.8270\n",
            "Epoch 10/115\n",
            "142/142 [==============================] - 6s 41ms/step - loss: 0.3642 - accuracy: 0.8409 - val_loss: 0.3782 - val_accuracy: 0.8367\n",
            "Epoch 11/115\n",
            "142/142 [==============================] - 6s 40ms/step - loss: 0.3578 - accuracy: 0.8459 - val_loss: 0.3953 - val_accuracy: 0.8177\n",
            "Epoch 12/115\n",
            "142/142 [==============================] - 6s 40ms/step - loss: 0.3545 - accuracy: 0.8463 - val_loss: 0.3675 - val_accuracy: 0.8385\n",
            "Epoch 13/115\n",
            "142/142 [==============================] - 6s 40ms/step - loss: 0.3500 - accuracy: 0.8481 - val_loss: 0.3663 - val_accuracy: 0.8363\n",
            "Epoch 14/115\n",
            "142/142 [==============================] - 6s 41ms/step - loss: 0.3479 - accuracy: 0.8511 - val_loss: 0.3840 - val_accuracy: 0.8314\n",
            "Epoch 15/115\n",
            "142/142 [==============================] - 6s 40ms/step - loss: 0.3373 - accuracy: 0.8549 - val_loss: 0.3575 - val_accuracy: 0.8381\n",
            "Epoch 16/115\n",
            "142/142 [==============================] - 6s 41ms/step - loss: 0.3298 - accuracy: 0.8584 - val_loss: 0.3591 - val_accuracy: 0.8420\n",
            "Epoch 17/115\n",
            "142/142 [==============================] - 6s 41ms/step - loss: 0.3271 - accuracy: 0.8605 - val_loss: 0.3519 - val_accuracy: 0.8425\n",
            "Epoch 18/115\n",
            "142/142 [==============================] - 6s 40ms/step - loss: 0.3225 - accuracy: 0.8634 - val_loss: 0.3535 - val_accuracy: 0.8447\n",
            "Epoch 19/115\n",
            "142/142 [==============================] - 6s 40ms/step - loss: 0.3176 - accuracy: 0.8651 - val_loss: 0.3516 - val_accuracy: 0.8442\n",
            "Epoch 20/115\n",
            "142/142 [==============================] - 6s 41ms/step - loss: 0.3127 - accuracy: 0.8686 - val_loss: 0.3493 - val_accuracy: 0.8482\n",
            "Epoch 21/115\n",
            "142/142 [==============================] - 6s 41ms/step - loss: 0.3121 - accuracy: 0.8682 - val_loss: 0.3572 - val_accuracy: 0.8434\n",
            "Epoch 22/115\n",
            "142/142 [==============================] - 6s 40ms/step - loss: 0.3052 - accuracy: 0.8711 - val_loss: 0.3401 - val_accuracy: 0.8544\n",
            "Epoch 23/115\n",
            "142/142 [==============================] - 8s 54ms/step - loss: 0.3015 - accuracy: 0.8730 - val_loss: 0.3428 - val_accuracy: 0.8553\n",
            "Epoch 24/115\n",
            "142/142 [==============================] - 6s 41ms/step - loss: 0.2976 - accuracy: 0.8754 - val_loss: 0.3384 - val_accuracy: 0.8558\n",
            "Epoch 25/115\n",
            "142/142 [==============================] - 6s 41ms/step - loss: 0.2949 - accuracy: 0.8760 - val_loss: 0.3385 - val_accuracy: 0.8535\n",
            "Epoch 26/115\n",
            "142/142 [==============================] - 6s 41ms/step - loss: 0.2915 - accuracy: 0.8781 - val_loss: 0.3425 - val_accuracy: 0.8456\n",
            "Epoch 27/115\n",
            "142/142 [==============================] - 6s 41ms/step - loss: 0.2884 - accuracy: 0.8799 - val_loss: 0.3428 - val_accuracy: 0.8460\n",
            "Epoch 28/115\n",
            "142/142 [==============================] - 6s 41ms/step - loss: 0.2843 - accuracy: 0.8814 - val_loss: 0.3396 - val_accuracy: 0.8522\n",
            "Epoch 29/115\n",
            "142/142 [==============================] - 6s 40ms/step - loss: 0.2826 - accuracy: 0.8811 - val_loss: 0.3355 - val_accuracy: 0.8562\n",
            "Epoch 30/115\n",
            "142/142 [==============================] - 6s 41ms/step - loss: 0.2822 - accuracy: 0.8816 - val_loss: 0.3387 - val_accuracy: 0.8553\n",
            "Epoch 31/115\n",
            "142/142 [==============================] - 6s 41ms/step - loss: 0.2785 - accuracy: 0.8847 - val_loss: 0.3446 - val_accuracy: 0.8425\n",
            "Epoch 32/115\n",
            "142/142 [==============================] - 6s 40ms/step - loss: 0.2778 - accuracy: 0.8855 - val_loss: 0.3332 - val_accuracy: 0.8628\n",
            "Epoch 33/115\n",
            "142/142 [==============================] - 8s 54ms/step - loss: 0.2702 - accuracy: 0.8885 - val_loss: 0.3457 - val_accuracy: 0.8465\n",
            "Epoch 34/115\n",
            "142/142 [==============================] - 6s 41ms/step - loss: 0.2712 - accuracy: 0.8882 - val_loss: 0.3345 - val_accuracy: 0.8540\n",
            "Epoch 35/115\n",
            "142/142 [==============================] - 6s 41ms/step - loss: 0.2675 - accuracy: 0.8885 - val_loss: 0.3425 - val_accuracy: 0.8496\n",
            "Epoch 36/115\n",
            "142/142 [==============================] - 6s 41ms/step - loss: 0.2685 - accuracy: 0.8898 - val_loss: 0.3291 - val_accuracy: 0.8597\n",
            "Epoch 37/115\n",
            "142/142 [==============================] - 6s 41ms/step - loss: 0.2675 - accuracy: 0.8904 - val_loss: 0.3513 - val_accuracy: 0.8429\n",
            "Epoch 38/115\n",
            "142/142 [==============================] - 6s 41ms/step - loss: 0.2622 - accuracy: 0.8917 - val_loss: 0.3545 - val_accuracy: 0.8407\n",
            "Epoch 39/115\n",
            "142/142 [==============================] - 6s 40ms/step - loss: 0.2646 - accuracy: 0.8900 - val_loss: 0.3332 - val_accuracy: 0.8553\n",
            "Epoch 40/115\n",
            "142/142 [==============================] - 6s 41ms/step - loss: 0.2620 - accuracy: 0.8931 - val_loss: 0.3426 - val_accuracy: 0.8553\n",
            "Epoch 41/115\n",
            "142/142 [==============================] - 6s 41ms/step - loss: 0.2597 - accuracy: 0.8942 - val_loss: 0.3312 - val_accuracy: 0.8558\n",
            "Epoch 42/115\n",
            "142/142 [==============================] - 6s 41ms/step - loss: 0.2590 - accuracy: 0.8936 - val_loss: 0.3300 - val_accuracy: 0.8575\n",
            "Epoch 43/115\n",
            "142/142 [==============================] - 6s 41ms/step - loss: 0.2557 - accuracy: 0.8973 - val_loss: 0.3627 - val_accuracy: 0.8381\n",
            "Epoch 44/115\n",
            "142/142 [==============================] - 6s 40ms/step - loss: 0.2548 - accuracy: 0.8968 - val_loss: 0.3315 - val_accuracy: 0.8588\n",
            "Epoch 45/115\n",
            "142/142 [==============================] - 6s 41ms/step - loss: 0.2549 - accuracy: 0.8951 - val_loss: 0.3303 - val_accuracy: 0.8566\n",
            "Epoch 46/115\n",
            "142/142 [==============================] - 6s 41ms/step - loss: 0.2515 - accuracy: 0.8983 - val_loss: 0.3300 - val_accuracy: 0.8602\n",
            "Epoch 47/115\n",
            "142/142 [==============================] - 6s 41ms/step - loss: 0.2533 - accuracy: 0.8956 - val_loss: 0.3286 - val_accuracy: 0.8606\n",
            "Epoch 48/115\n",
            "142/142 [==============================] - 6s 41ms/step - loss: 0.2504 - accuracy: 0.8961 - val_loss: 0.3289 - val_accuracy: 0.8602\n",
            "Epoch 49/115\n",
            "142/142 [==============================] - 8s 55ms/step - loss: 0.2527 - accuracy: 0.8968 - val_loss: 0.3301 - val_accuracy: 0.8628\n",
            "Epoch 50/115\n",
            "142/142 [==============================] - 6s 41ms/step - loss: 0.2498 - accuracy: 0.8967 - val_loss: 0.3408 - val_accuracy: 0.8615\n",
            "Epoch 51/115\n",
            "142/142 [==============================] - 6s 41ms/step - loss: 0.2481 - accuracy: 0.8993 - val_loss: 0.3337 - val_accuracy: 0.8553\n",
            "Epoch 52/115\n",
            "142/142 [==============================] - 6s 41ms/step - loss: 0.2461 - accuracy: 0.8998 - val_loss: 0.3352 - val_accuracy: 0.8575\n",
            "Epoch 53/115\n",
            "142/142 [==============================] - 6s 41ms/step - loss: 0.2472 - accuracy: 0.8986 - val_loss: 0.3512 - val_accuracy: 0.8416\n",
            "Epoch 54/115\n",
            "142/142 [==============================] - 6s 42ms/step - loss: 0.2489 - accuracy: 0.8981 - val_loss: 0.3336 - val_accuracy: 0.8566\n",
            "Epoch 55/115\n",
            "142/142 [==============================] - 6s 41ms/step - loss: 0.2446 - accuracy: 0.9010 - val_loss: 0.3332 - val_accuracy: 0.8642\n",
            "Epoch 56/115\n",
            "142/142 [==============================] - 6s 42ms/step - loss: 0.2482 - accuracy: 0.8997 - val_loss: 0.3693 - val_accuracy: 0.8513\n",
            "Epoch 57/115\n",
            "142/142 [==============================] - 6s 42ms/step - loss: 0.2439 - accuracy: 0.8991 - val_loss: 0.3380 - val_accuracy: 0.8571\n",
            "Epoch 58/115\n",
            "142/142 [==============================] - 6s 42ms/step - loss: 0.2416 - accuracy: 0.9018 - val_loss: 0.3381 - val_accuracy: 0.8580\n",
            "Epoch 59/115\n",
            "142/142 [==============================] - 8s 55ms/step - loss: 0.2406 - accuracy: 0.9025 - val_loss: 0.3441 - val_accuracy: 0.8584\n",
            "Epoch 60/115\n",
            "142/142 [==============================] - 6s 42ms/step - loss: 0.2464 - accuracy: 0.9007 - val_loss: 0.3407 - val_accuracy: 0.8593\n",
            "Epoch 61/115\n",
            "142/142 [==============================] - 6s 42ms/step - loss: 0.2399 - accuracy: 0.9029 - val_loss: 0.3345 - val_accuracy: 0.8637\n",
            "Epoch 62/115\n",
            "142/142 [==============================] - 6s 41ms/step - loss: 0.2393 - accuracy: 0.9031 - val_loss: 0.3527 - val_accuracy: 0.8456\n",
            "Epoch 63/115\n",
            "142/142 [==============================] - 6s 42ms/step - loss: 0.2407 - accuracy: 0.9010 - val_loss: 0.3383 - val_accuracy: 0.8571\n",
            "Epoch 64/115\n",
            "142/142 [==============================] - 6s 41ms/step - loss: 0.2384 - accuracy: 0.9037 - val_loss: 0.3444 - val_accuracy: 0.8491\n",
            "Epoch 65/115\n",
            "142/142 [==============================] - 6s 41ms/step - loss: 0.2359 - accuracy: 0.9037 - val_loss: 0.3446 - val_accuracy: 0.8606\n",
            "Epoch 66/115\n",
            "142/142 [==============================] - 6s 41ms/step - loss: 0.2365 - accuracy: 0.9046 - val_loss: 0.3516 - val_accuracy: 0.8460\n",
            "Epoch 67/115\n",
            "142/142 [==============================] - 6s 41ms/step - loss: 0.2360 - accuracy: 0.9050 - val_loss: 0.3730 - val_accuracy: 0.8336\n",
            "Epoch 68/115\n",
            "142/142 [==============================] - 6s 41ms/step - loss: 0.2342 - accuracy: 0.9051 - val_loss: 0.3391 - val_accuracy: 0.8619\n",
            "Epoch 69/115\n",
            "142/142 [==============================] - 6s 42ms/step - loss: 0.2342 - accuracy: 0.9062 - val_loss: 0.3463 - val_accuracy: 0.8509\n",
            "Epoch 70/115\n",
            "142/142 [==============================] - 6s 42ms/step - loss: 0.2363 - accuracy: 0.9045 - val_loss: 0.3489 - val_accuracy: 0.8562\n",
            "Epoch 71/115\n",
            "142/142 [==============================] - 6s 42ms/step - loss: 0.2348 - accuracy: 0.9050 - val_loss: 0.3429 - val_accuracy: 0.8575\n",
            "Epoch 72/115\n",
            "142/142 [==============================] - 6s 41ms/step - loss: 0.2308 - accuracy: 0.9086 - val_loss: 0.3473 - val_accuracy: 0.8553\n",
            "Epoch 73/115\n",
            "142/142 [==============================] - 6s 42ms/step - loss: 0.2296 - accuracy: 0.9096 - val_loss: 0.3488 - val_accuracy: 0.8553\n",
            "Epoch 74/115\n",
            "142/142 [==============================] - 8s 56ms/step - loss: 0.2314 - accuracy: 0.9044 - val_loss: 0.3579 - val_accuracy: 0.8544\n",
            "Epoch 75/115\n",
            "142/142 [==============================] - 6s 43ms/step - loss: 0.2334 - accuracy: 0.9061 - val_loss: 0.3472 - val_accuracy: 0.8571\n",
            "Epoch 76/115\n",
            "142/142 [==============================] - 6s 42ms/step - loss: 0.2321 - accuracy: 0.9056 - val_loss: 0.3512 - val_accuracy: 0.8593\n",
            "Epoch 77/115\n",
            "142/142 [==============================] - 6s 42ms/step - loss: 0.2306 - accuracy: 0.9074 - val_loss: 0.3493 - val_accuracy: 0.8522\n",
            "Epoch 78/115\n",
            "142/142 [==============================] - 6s 42ms/step - loss: 0.2282 - accuracy: 0.9088 - val_loss: 0.3716 - val_accuracy: 0.8341\n",
            "Epoch 79/115\n",
            "142/142 [==============================] - 6s 42ms/step - loss: 0.2292 - accuracy: 0.9075 - val_loss: 0.3478 - val_accuracy: 0.8584\n",
            "Epoch 80/115\n",
            "142/142 [==============================] - 6s 42ms/step - loss: 0.2300 - accuracy: 0.9096 - val_loss: 0.3632 - val_accuracy: 0.8580\n",
            "Epoch 81/115\n",
            "142/142 [==============================] - 6s 42ms/step - loss: 0.2268 - accuracy: 0.9080 - val_loss: 0.3732 - val_accuracy: 0.8310\n",
            "Epoch 82/115\n",
            "142/142 [==============================] - 6s 42ms/step - loss: 0.2253 - accuracy: 0.9094 - val_loss: 0.3504 - val_accuracy: 0.8531\n",
            "Epoch 83/115\n",
            "142/142 [==============================] - 6s 43ms/step - loss: 0.2239 - accuracy: 0.9099 - val_loss: 0.3567 - val_accuracy: 0.8527\n",
            "Epoch 84/115\n",
            "142/142 [==============================] - 8s 54ms/step - loss: 0.2244 - accuracy: 0.9115 - val_loss: 0.3496 - val_accuracy: 0.8588\n",
            "Epoch 85/115\n",
            "142/142 [==============================] - 6s 42ms/step - loss: 0.2230 - accuracy: 0.9100 - val_loss: 0.3537 - val_accuracy: 0.8562\n",
            "Epoch 86/115\n",
            "142/142 [==============================] - 6s 42ms/step - loss: 0.2268 - accuracy: 0.9086 - val_loss: 0.3820 - val_accuracy: 0.8473\n",
            "Epoch 87/115\n",
            "142/142 [==============================] - 6s 42ms/step - loss: 0.2237 - accuracy: 0.9105 - val_loss: 0.3593 - val_accuracy: 0.8496\n",
            "Epoch 88/115\n",
            "142/142 [==============================] - 6s 42ms/step - loss: 0.2210 - accuracy: 0.9117 - val_loss: 0.3555 - val_accuracy: 0.8553\n",
            "Epoch 89/115\n",
            "142/142 [==============================] - 6s 42ms/step - loss: 0.2248 - accuracy: 0.9105 - val_loss: 0.3572 - val_accuracy: 0.8522\n",
            "Epoch 90/115\n",
            "142/142 [==============================] - 6s 43ms/step - loss: 0.2210 - accuracy: 0.9110 - val_loss: 0.3608 - val_accuracy: 0.8478\n",
            "Epoch 91/115\n",
            "142/142 [==============================] - 6s 43ms/step - loss: 0.2209 - accuracy: 0.9103 - val_loss: 0.3565 - val_accuracy: 0.8487\n",
            "Epoch 92/115\n",
            "142/142 [==============================] - 6s 43ms/step - loss: 0.2192 - accuracy: 0.9132 - val_loss: 0.3589 - val_accuracy: 0.8527\n",
            "Epoch 93/115\n",
            "142/142 [==============================] - 6s 42ms/step - loss: 0.2207 - accuracy: 0.9120 - val_loss: 0.3542 - val_accuracy: 0.8566\n",
            "Epoch 94/115\n",
            "142/142 [==============================] - 6s 43ms/step - loss: 0.2233 - accuracy: 0.9095 - val_loss: 0.3612 - val_accuracy: 0.8482\n",
            "Epoch 95/115\n",
            "142/142 [==============================] - 6s 43ms/step - loss: 0.2196 - accuracy: 0.9133 - val_loss: 0.3766 - val_accuracy: 0.8500\n",
            "Epoch 96/115\n",
            "142/142 [==============================] - 6s 43ms/step - loss: 0.2191 - accuracy: 0.9127 - val_loss: 0.3638 - val_accuracy: 0.8469\n",
            "Epoch 97/115\n",
            "142/142 [==============================] - 6s 43ms/step - loss: 0.2192 - accuracy: 0.9118 - val_loss: 0.3619 - val_accuracy: 0.8504\n",
            "Epoch 98/115\n",
            "142/142 [==============================] - 7s 51ms/step - loss: 0.2175 - accuracy: 0.9131 - val_loss: 0.3716 - val_accuracy: 0.8434\n",
            "Epoch 99/115\n",
            "142/142 [==============================] - 7s 47ms/step - loss: 0.2188 - accuracy: 0.9126 - val_loss: 0.3904 - val_accuracy: 0.8283\n",
            "Epoch 100/115\n",
            "142/142 [==============================] - 6s 43ms/step - loss: 0.2164 - accuracy: 0.9150 - val_loss: 0.3625 - val_accuracy: 0.8473\n",
            "Epoch 101/115\n",
            "142/142 [==============================] - 6s 42ms/step - loss: 0.2152 - accuracy: 0.9132 - val_loss: 0.3632 - val_accuracy: 0.8478\n",
            "Epoch 102/115\n",
            "142/142 [==============================] - 6s 42ms/step - loss: 0.2154 - accuracy: 0.9127 - val_loss: 0.3987 - val_accuracy: 0.8332\n",
            "Epoch 103/115\n",
            "142/142 [==============================] - 6s 42ms/step - loss: 0.2191 - accuracy: 0.9124 - val_loss: 0.3635 - val_accuracy: 0.8527\n",
            "Epoch 104/115\n",
            "142/142 [==============================] - 6s 42ms/step - loss: 0.2172 - accuracy: 0.9124 - val_loss: 0.3635 - val_accuracy: 0.8540\n",
            "Epoch 105/115\n",
            "142/142 [==============================] - 6s 42ms/step - loss: 0.2148 - accuracy: 0.9148 - val_loss: 0.3732 - val_accuracy: 0.8487\n",
            "Epoch 106/115\n",
            "142/142 [==============================] - 6s 42ms/step - loss: 0.2156 - accuracy: 0.9140 - val_loss: 0.3711 - val_accuracy: 0.8478\n",
            "Epoch 107/115\n",
            "142/142 [==============================] - 6s 41ms/step - loss: 0.2160 - accuracy: 0.9144 - val_loss: 0.3682 - val_accuracy: 0.8544\n",
            "Epoch 108/115\n",
            "142/142 [==============================] - 6s 41ms/step - loss: 0.2131 - accuracy: 0.9159 - val_loss: 0.3951 - val_accuracy: 0.8487\n",
            "Epoch 109/115\n",
            "142/142 [==============================] - 6s 41ms/step - loss: 0.2127 - accuracy: 0.9169 - val_loss: 0.3765 - val_accuracy: 0.8491\n",
            "Epoch 110/115\n",
            "142/142 [==============================] - 8s 54ms/step - loss: 0.2116 - accuracy: 0.9155 - val_loss: 0.3679 - val_accuracy: 0.8566\n",
            "Epoch 111/115\n",
            "142/142 [==============================] - 6s 43ms/step - loss: 0.2120 - accuracy: 0.9163 - val_loss: 0.3794 - val_accuracy: 0.8513\n",
            "Epoch 112/115\n",
            "142/142 [==============================] - 6s 41ms/step - loss: 0.2122 - accuracy: 0.9165 - val_loss: 0.3769 - val_accuracy: 0.8509\n",
            "Epoch 113/115\n",
            "142/142 [==============================] - 6s 42ms/step - loss: 0.2140 - accuracy: 0.9155 - val_loss: 0.3681 - val_accuracy: 0.8544\n",
            "Epoch 114/115\n",
            "142/142 [==============================] - 6s 41ms/step - loss: 0.2126 - accuracy: 0.9148 - val_loss: 0.3767 - val_accuracy: 0.8469\n",
            "Epoch 115/115\n",
            "142/142 [==============================] - 6s 41ms/step - loss: 0.2164 - accuracy: 0.9133 - val_loss: 0.3721 - val_accuracy: 0.8500\n"
          ]
        },
        {
          "output_type": "stream",
          "name": "stderr",
          "text": [
            "WARNING:absl:Found untraced functions such as _jit_compiled_convolution_op, _jit_compiled_convolution_op, _jit_compiled_convolution_op while saving (showing 3 of 3). These functions will not be directly callable after loading.\n"
          ]
        }
      ]
    },
    {
      "cell_type": "code",
      "source": [
        "# Evaluate the model\n",
        "loss, acc = model_adam.evaluate(X_validation, y_validation, verbose=2)\n",
        "print(\"Untrained model, accuracy: {:5.2f}%\".format(100 * acc))"
      ],
      "metadata": {
        "colab": {
          "base_uri": "https://localhost:8080/"
        },
        "id": "oJRnJr4bipEl",
        "outputId": "b7359a14-1d53-4e31-d873-cceb63c7ff34"
      },
      "execution_count": null,
      "outputs": [
        {
          "output_type": "stream",
          "name": "stdout",
          "text": [
            "71/71 - 0s - loss: 0.3522 - accuracy: 0.8633 - 397ms/epoch - 6ms/step\n",
            "Untrained model, accuracy: 86.33%\n"
          ]
        }
      ]
    },
    {
      "cell_type": "code",
      "source": [
        "plt.figure(figsize = (10,4))\n",
        "plt.subplot(121)\n",
        "plt.plot(history_adam.epoch, history_adam.history[\"loss\"], 'g', label='Training loss')\n",
        "plt.plot(history_adam.epoch, history_adam.history[\"val_loss\"], 'b', label='Test loss')\n",
        "plt.title('Training loss')\n",
        "plt.xlabel('Epochs')\n",
        "plt.ylabel('Loss')\n",
        "plt.legend()\n",
        "\n",
        "plt.subplot(122)\n",
        "plt.plot(history_adam.epoch, history_adam.history[\"accuracy\"], 'r', label='Training accuracy')\n",
        "plt.plot(history_adam.epoch, history_adam.history[\"val_accuracy\"], 'orange', label='Test accuracy')\n",
        "plt.title('Training accuracy')\n",
        "plt.xlabel('Epochs')\n",
        "plt.ylabel('Accuracy')\n",
        "plt.legend()\n",
        "plt.savefig(work_folder + \"base_model_deep_no_dropout_adam.png\")\n",
        "plt.show()"
      ],
      "metadata": {
        "colab": {
          "base_uri": "https://localhost:8080/",
          "height": 295
        },
        "id": "8EoujHmTipcO",
        "outputId": "07c96ba0-f115-429f-9d33-b39782fb3cc3"
      },
      "execution_count": null,
      "outputs": [
        {
          "output_type": "display_data",
          "data": {
            "text/plain": [
              "<Figure size 720x288 with 2 Axes>"
            ],
            "image/png": "[encoded data removed]"
          },
          "metadata": {
            "needs_background": "light"
          }
        }
      ]
    },
    {
      "cell_type": "markdown",
      "source": [
        "# Model ADAM and dropout"
      ],
      "metadata": {
        "id": "yk1p-o7mjB07"
      }
    },
    {
      "cell_type": "code",
      "source": [
        "model_adam_dropout = tf.keras.Sequential()\n",
        "\n",
        "model_adam_dropout.add(tf.keras.layers.Conv1D(filters = 27, kernel_size = 4, activation = 'relu', padding = \"valid\", input_shape = (X_train.shape[1], X_train.shape[2])))\n",
        "model_adam_dropout.add(tf.keras.layers.MaxPool1D(pool_size=3, strides=None, padding='valid'))\n",
        "model_adam_dropout.add(tf.keras.layers.Dropout(0.2))\n",
        "model_adam_dropout.add(tf.keras.layers.Conv1D(filters = 14, kernel_size = 4, activation = 'relu'))\n",
        "model_adam_dropout.add(tf.keras.layers.MaxPool1D(pool_size= 2, strides = None, padding = 'valid'))\n",
        "model_adam_dropout.add(tf.keras.layers.Dropout(0.2))\n",
        "model_adam_dropout.add(tf.keras.layers.Conv1D(filters = 7, kernel_size = 4, activation = 'relu'))\n",
        "model_adam_dropout.add(tf.keras.layers.MaxPool1D(pool_size= 2, strides = None, padding = 'valid'))\n",
        "model_adam_dropout.add(tf.keras.layers.Dropout(0.2))\n",
        "model_adam_dropout.add(tf.keras.layers.Flatten())\n",
        "model_adam_dropout.add(tf.keras.layers.Dense(units = 1, activation = 'sigmoid'))\n",
        "\n",
        "model_adam_dropout.summary()\n",
        "\n",
        "model_adam_dropout.compile(loss='binary_crossentropy',\n",
        "              optimizer='adam',\n",
        "              metrics=['accuracy'])\n",
        "\n",
        "# Set early stopping to avoid overfitting\n",
        "\n",
        "early_stop = keras.callbacks.EarlyStopping(monitor = 'val_accuracy', min_delta = 0.0005, patience=8, \n",
        "                                           restore_best_weights=True )"
      ],
      "metadata": {
        "colab": {
          "base_uri": "https://localhost:8080/"
        },
        "id": "DOVICkHjjE-Y",
        "outputId": "eaf8e5e5-2017-498e-af43-bc7d28889ab5"
      },
      "execution_count": null,
      "outputs": [
        {
          "output_type": "stream",
          "name": "stdout",
          "text": [
            "Model: \"sequential_2\"\n",
            "_________________________________________________________________\n",
            " Layer (type)                Output Shape              Param #   \n",
            "=================================================================\n",
            " conv1d_6 (Conv1D)           (None, 298, 27)           459       \n",
            "                                                                 \n",
            " max_pooling1d_6 (MaxPooling  (None, 99, 27)           0         \n",
            " 1D)                                                             \n",
            "                                                                 \n",
            " dropout (Dropout)           (None, 99, 27)            0         \n",
            "                                                                 \n",
            " conv1d_7 (Conv1D)           (None, 96, 14)            1526      \n",
            "                                                                 \n",
            " max_pooling1d_7 (MaxPooling  (None, 48, 14)           0         \n",
            " 1D)                                                             \n",
            "                                                                 \n",
            " dropout_1 (Dropout)         (None, 48, 14)            0         \n",
            "                                                                 \n",
            " conv1d_8 (Conv1D)           (None, 45, 7)             399       \n",
            "                                                                 \n",
            " max_pooling1d_8 (MaxPooling  (None, 22, 7)            0         \n",
            " 1D)                                                             \n",
            "                                                                 \n",
            " dropout_2 (Dropout)         (None, 22, 7)             0         \n",
            "                                                                 \n",
            " flatten_2 (Flatten)         (None, 154)               0         \n",
            "                                                                 \n",
            " dense_2 (Dense)             (None, 1)                 155       \n",
            "                                                                 \n",
            "=================================================================\n",
            "Total params: 2,539\n",
            "Trainable params: 2,539\n",
            "Non-trainable params: 0\n",
            "_________________________________________________________________\n"
          ]
        }
      ]
    },
    {
      "cell_type": "code",
      "source": [
        "history_adam_droupout = model_adam_dropout.fit(X_train, y_train, batch_size = 128, validation_data=(X_test, y_test), \n",
        "                        epochs=115)\n",
        "\n",
        "model_adam.save(models_folder)"
      ],
      "metadata": {
        "colab": {
          "base_uri": "https://localhost:8080/"
        },
        "id": "ggjuXuInjE4U",
        "outputId": "aca525e5-71d4-46ab-a128-2b14fa717b20"
      },
      "execution_count": null,
      "outputs": [
        {
          "output_type": "stream",
          "name": "stdout",
          "text": [
            "Epoch 1/115\n",
            "142/142 [==============================] - 8s 48ms/step - loss: 0.6035 - accuracy: 0.6723 - val_loss: 0.5332 - val_accuracy: 0.7491\n",
            "Epoch 2/115\n",
            "142/142 [==============================] - 7s 46ms/step - loss: 0.5194 - accuracy: 0.7483 - val_loss: 0.5121 - val_accuracy: 0.7575\n",
            "Epoch 3/115\n",
            "142/142 [==============================] - 7s 46ms/step - loss: 0.5050 - accuracy: 0.7566 - val_loss: 0.4890 - val_accuracy: 0.7690\n",
            "Epoch 4/115\n",
            "142/142 [==============================] - 7s 46ms/step - loss: 0.4876 - accuracy: 0.7695 - val_loss: 0.4748 - val_accuracy: 0.7708\n",
            "Epoch 5/115\n",
            "142/142 [==============================] - 7s 46ms/step - loss: 0.4663 - accuracy: 0.7821 - val_loss: 0.4399 - val_accuracy: 0.7876\n",
            "Epoch 6/115\n",
            "142/142 [==============================] - 7s 46ms/step - loss: 0.4482 - accuracy: 0.7930 - val_loss: 0.4201 - val_accuracy: 0.7947\n",
            "Epoch 7/115\n",
            "142/142 [==============================] - 8s 59ms/step - loss: 0.4408 - accuracy: 0.7960 - val_loss: 0.4110 - val_accuracy: 0.8022\n",
            "Epoch 8/115\n",
            "142/142 [==============================] - 6s 45ms/step - loss: 0.4275 - accuracy: 0.8032 - val_loss: 0.4109 - val_accuracy: 0.8040\n",
            "Epoch 9/115\n",
            "142/142 [==============================] - 6s 45ms/step - loss: 0.4234 - accuracy: 0.8048 - val_loss: 0.4014 - val_accuracy: 0.8119\n",
            "Epoch 10/115\n",
            "142/142 [==============================] - 6s 45ms/step - loss: 0.4211 - accuracy: 0.8060 - val_loss: 0.4028 - val_accuracy: 0.8133\n",
            "Epoch 11/115\n",
            "142/142 [==============================] - 7s 46ms/step - loss: 0.4095 - accuracy: 0.8145 - val_loss: 0.3969 - val_accuracy: 0.8164\n",
            "Epoch 12/115\n",
            "142/142 [==============================] - 7s 46ms/step - loss: 0.4063 - accuracy: 0.8153 - val_loss: 0.3919 - val_accuracy: 0.8173\n",
            "Epoch 13/115\n",
            "142/142 [==============================] - 7s 46ms/step - loss: 0.4034 - accuracy: 0.8167 - val_loss: 0.3802 - val_accuracy: 0.8274\n",
            "Epoch 14/115\n",
            "142/142 [==============================] - 7s 46ms/step - loss: 0.4022 - accuracy: 0.8171 - val_loss: 0.3797 - val_accuracy: 0.8292\n",
            "Epoch 15/115\n",
            "142/142 [==============================] - 7s 46ms/step - loss: 0.3952 - accuracy: 0.8220 - val_loss: 0.3743 - val_accuracy: 0.8319\n",
            "Epoch 16/115\n",
            "142/142 [==============================] - 7s 46ms/step - loss: 0.3938 - accuracy: 0.8222 - val_loss: 0.3846 - val_accuracy: 0.8305\n",
            "Epoch 17/115\n",
            "142/142 [==============================] - 7s 46ms/step - loss: 0.3896 - accuracy: 0.8252 - val_loss: 0.3662 - val_accuracy: 0.8332\n",
            "Epoch 18/115\n",
            "142/142 [==============================] - 8s 60ms/step - loss: 0.3856 - accuracy: 0.8278 - val_loss: 0.3692 - val_accuracy: 0.8345\n",
            "Epoch 19/115\n",
            "142/142 [==============================] - 6s 45ms/step - loss: 0.3850 - accuracy: 0.8290 - val_loss: 0.3629 - val_accuracy: 0.8350\n",
            "Epoch 20/115\n",
            "142/142 [==============================] - 6s 45ms/step - loss: 0.3797 - accuracy: 0.8281 - val_loss: 0.3596 - val_accuracy: 0.8389\n",
            "Epoch 21/115\n",
            "142/142 [==============================] - 7s 46ms/step - loss: 0.3782 - accuracy: 0.8294 - val_loss: 0.3561 - val_accuracy: 0.8376\n",
            "Epoch 22/115\n",
            "142/142 [==============================] - 6s 45ms/step - loss: 0.3714 - accuracy: 0.8367 - val_loss: 0.3517 - val_accuracy: 0.8425\n",
            "Epoch 23/115\n",
            "142/142 [==============================] - 7s 46ms/step - loss: 0.3755 - accuracy: 0.8331 - val_loss: 0.3627 - val_accuracy: 0.8350\n",
            "Epoch 24/115\n",
            "142/142 [==============================] - 7s 46ms/step - loss: 0.3695 - accuracy: 0.8379 - val_loss: 0.3463 - val_accuracy: 0.8465\n",
            "Epoch 25/115\n",
            "142/142 [==============================] - 6s 46ms/step - loss: 0.3715 - accuracy: 0.8356 - val_loss: 0.3457 - val_accuracy: 0.8447\n",
            "Epoch 26/115\n",
            "142/142 [==============================] - 7s 46ms/step - loss: 0.3673 - accuracy: 0.8375 - val_loss: 0.3444 - val_accuracy: 0.8465\n",
            "Epoch 27/115\n",
            "142/142 [==============================] - 7s 46ms/step - loss: 0.3655 - accuracy: 0.8397 - val_loss: 0.3407 - val_accuracy: 0.8460\n",
            "Epoch 28/115\n",
            "142/142 [==============================] - 7s 46ms/step - loss: 0.3662 - accuracy: 0.8373 - val_loss: 0.3431 - val_accuracy: 0.8478\n",
            "Epoch 29/115\n",
            "142/142 [==============================] - 6s 45ms/step - loss: 0.3626 - accuracy: 0.8394 - val_loss: 0.3537 - val_accuracy: 0.8434\n",
            "Epoch 30/115\n",
            "142/142 [==============================] - 9s 60ms/step - loss: 0.3604 - accuracy: 0.8424 - val_loss: 0.3384 - val_accuracy: 0.8509\n",
            "Epoch 31/115\n",
            "142/142 [==============================] - 7s 46ms/step - loss: 0.3610 - accuracy: 0.8400 - val_loss: 0.3364 - val_accuracy: 0.8540\n",
            "Epoch 32/115\n",
            "142/142 [==============================] - 7s 46ms/step - loss: 0.3568 - accuracy: 0.8431 - val_loss: 0.3388 - val_accuracy: 0.8527\n",
            "Epoch 33/115\n",
            "142/142 [==============================] - 7s 46ms/step - loss: 0.3584 - accuracy: 0.8409 - val_loss: 0.3329 - val_accuracy: 0.8535\n",
            "Epoch 34/115\n",
            "142/142 [==============================] - 7s 46ms/step - loss: 0.3546 - accuracy: 0.8471 - val_loss: 0.3400 - val_accuracy: 0.8504\n",
            "Epoch 35/115\n",
            "142/142 [==============================] - 7s 46ms/step - loss: 0.3552 - accuracy: 0.8436 - val_loss: 0.3314 - val_accuracy: 0.8500\n",
            "Epoch 36/115\n",
            "142/142 [==============================] - 7s 47ms/step - loss: 0.3563 - accuracy: 0.8427 - val_loss: 0.3431 - val_accuracy: 0.8496\n",
            "Epoch 37/115\n",
            "142/142 [==============================] - 7s 46ms/step - loss: 0.3514 - accuracy: 0.8445 - val_loss: 0.3267 - val_accuracy: 0.8558\n",
            "Epoch 38/115\n",
            "142/142 [==============================] - 7s 46ms/step - loss: 0.3475 - accuracy: 0.8490 - val_loss: 0.3304 - val_accuracy: 0.8535\n",
            "Epoch 39/115\n",
            "142/142 [==============================] - 7s 46ms/step - loss: 0.3446 - accuracy: 0.8494 - val_loss: 0.3297 - val_accuracy: 0.8491\n",
            "Epoch 40/115\n",
            "142/142 [==============================] - 7s 49ms/step - loss: 0.3469 - accuracy: 0.8488 - val_loss: 0.3318 - val_accuracy: 0.8509\n",
            "Epoch 41/115\n",
            "142/142 [==============================] - 8s 57ms/step - loss: 0.3426 - accuracy: 0.8509 - val_loss: 0.3282 - val_accuracy: 0.8558\n",
            "Epoch 42/115\n",
            "142/142 [==============================] - 7s 46ms/step - loss: 0.3447 - accuracy: 0.8522 - val_loss: 0.3200 - val_accuracy: 0.8553\n",
            "Epoch 43/115\n",
            "142/142 [==============================] - 6s 46ms/step - loss: 0.3453 - accuracy: 0.8477 - val_loss: 0.3200 - val_accuracy: 0.8584\n",
            "Epoch 44/115\n",
            "142/142 [==============================] - 7s 46ms/step - loss: 0.3424 - accuracy: 0.8504 - val_loss: 0.3168 - val_accuracy: 0.8602\n",
            "Epoch 45/115\n",
            "142/142 [==============================] - 6s 46ms/step - loss: 0.3421 - accuracy: 0.8523 - val_loss: 0.3145 - val_accuracy: 0.8602\n",
            "Epoch 46/115\n",
            "142/142 [==============================] - 7s 46ms/step - loss: 0.3378 - accuracy: 0.8531 - val_loss: 0.3150 - val_accuracy: 0.8606\n",
            "Epoch 47/115\n",
            "142/142 [==============================] - 6s 46ms/step - loss: 0.3419 - accuracy: 0.8517 - val_loss: 0.3258 - val_accuracy: 0.8509\n",
            "Epoch 48/115\n",
            "142/142 [==============================] - 7s 46ms/step - loss: 0.3389 - accuracy: 0.8521 - val_loss: 0.3182 - val_accuracy: 0.8571\n",
            "Epoch 49/115\n",
            "142/142 [==============================] - 7s 46ms/step - loss: 0.3328 - accuracy: 0.8544 - val_loss: 0.3215 - val_accuracy: 0.8553\n",
            "Epoch 50/115\n",
            "142/142 [==============================] - 7s 46ms/step - loss: 0.3444 - accuracy: 0.8501 - val_loss: 0.3162 - val_accuracy: 0.8580\n",
            "Epoch 51/115\n",
            "142/142 [==============================] - 7s 46ms/step - loss: 0.3380 - accuracy: 0.8537 - val_loss: 0.3224 - val_accuracy: 0.8535\n",
            "Epoch 52/115\n",
            "142/142 [==============================] - 7s 46ms/step - loss: 0.3347 - accuracy: 0.8580 - val_loss: 0.3123 - val_accuracy: 0.8637\n",
            "Epoch 53/115\n",
            "142/142 [==============================] - 9s 60ms/step - loss: 0.3306 - accuracy: 0.8581 - val_loss: 0.3222 - val_accuracy: 0.8562\n",
            "Epoch 54/115\n",
            "142/142 [==============================] - 7s 46ms/step - loss: 0.3335 - accuracy: 0.8553 - val_loss: 0.3174 - val_accuracy: 0.8571\n",
            "Epoch 55/115\n",
            "142/142 [==============================] - 7s 46ms/step - loss: 0.3355 - accuracy: 0.8583 - val_loss: 0.3096 - val_accuracy: 0.8633\n",
            "Epoch 56/115\n",
            "142/142 [==============================] - 7s 46ms/step - loss: 0.3332 - accuracy: 0.8572 - val_loss: 0.3211 - val_accuracy: 0.8553\n",
            "Epoch 57/115\n",
            "142/142 [==============================] - 7s 46ms/step - loss: 0.3309 - accuracy: 0.8586 - val_loss: 0.3094 - val_accuracy: 0.8584\n",
            "Epoch 58/115\n",
            "142/142 [==============================] - 7s 46ms/step - loss: 0.3306 - accuracy: 0.8571 - val_loss: 0.3104 - val_accuracy: 0.8615\n",
            "Epoch 59/115\n",
            "142/142 [==============================] - 7s 47ms/step - loss: 0.3313 - accuracy: 0.8597 - val_loss: 0.3106 - val_accuracy: 0.8611\n",
            "Epoch 60/115\n",
            "142/142 [==============================] - 7s 46ms/step - loss: 0.3309 - accuracy: 0.8562 - val_loss: 0.3099 - val_accuracy: 0.8655\n",
            "Epoch 61/115\n",
            "142/142 [==============================] - 7s 46ms/step - loss: 0.3262 - accuracy: 0.8589 - val_loss: 0.3098 - val_accuracy: 0.8606\n",
            "Epoch 62/115\n",
            "142/142 [==============================] - 7s 46ms/step - loss: 0.3273 - accuracy: 0.8614 - val_loss: 0.3113 - val_accuracy: 0.8624\n",
            "Epoch 63/115\n",
            "142/142 [==============================] - 8s 59ms/step - loss: 0.3277 - accuracy: 0.8584 - val_loss: 0.3133 - val_accuracy: 0.8597\n",
            "Epoch 64/115\n",
            "142/142 [==============================] - 7s 48ms/step - loss: 0.3254 - accuracy: 0.8583 - val_loss: 0.3140 - val_accuracy: 0.8580\n",
            "Epoch 65/115\n",
            "142/142 [==============================] - 7s 46ms/step - loss: 0.3256 - accuracy: 0.8604 - val_loss: 0.3076 - val_accuracy: 0.8571\n",
            "Epoch 66/115\n",
            "142/142 [==============================] - 7s 46ms/step - loss: 0.3253 - accuracy: 0.8615 - val_loss: 0.3060 - val_accuracy: 0.8633\n",
            "Epoch 67/115\n",
            "142/142 [==============================] - 6s 46ms/step - loss: 0.3225 - accuracy: 0.8618 - val_loss: 0.3050 - val_accuracy: 0.8602\n",
            "Epoch 68/115\n",
            "142/142 [==============================] - 7s 46ms/step - loss: 0.3313 - accuracy: 0.8558 - val_loss: 0.3053 - val_accuracy: 0.8611\n",
            "Epoch 69/115\n",
            "142/142 [==============================] - 7s 47ms/step - loss: 0.3263 - accuracy: 0.8575 - val_loss: 0.3117 - val_accuracy: 0.8637\n",
            "Epoch 70/115\n",
            "142/142 [==============================] - 7s 47ms/step - loss: 0.3229 - accuracy: 0.8608 - val_loss: 0.3096 - val_accuracy: 0.8597\n",
            "Epoch 71/115\n",
            "142/142 [==============================] - 7s 47ms/step - loss: 0.3242 - accuracy: 0.8613 - val_loss: 0.3046 - val_accuracy: 0.8646\n",
            "Epoch 72/115\n",
            "142/142 [==============================] - 7s 47ms/step - loss: 0.3247 - accuracy: 0.8572 - val_loss: 0.3059 - val_accuracy: 0.8619\n",
            "Epoch 73/115\n",
            "142/142 [==============================] - 7s 47ms/step - loss: 0.3234 - accuracy: 0.8593 - val_loss: 0.3048 - val_accuracy: 0.8619\n",
            "Epoch 74/115\n",
            "142/142 [==============================] - 7s 46ms/step - loss: 0.3269 - accuracy: 0.8587 - val_loss: 0.3040 - val_accuracy: 0.8642\n",
            "Epoch 75/115\n",
            "142/142 [==============================] - 9s 60ms/step - loss: 0.3250 - accuracy: 0.8602 - val_loss: 0.3100 - val_accuracy: 0.8606\n",
            "Epoch 76/115\n",
            "142/142 [==============================] - 7s 46ms/step - loss: 0.3241 - accuracy: 0.8604 - val_loss: 0.3036 - val_accuracy: 0.8646\n",
            "Epoch 77/115\n",
            "142/142 [==============================] - 7s 47ms/step - loss: 0.3216 - accuracy: 0.8621 - val_loss: 0.3006 - val_accuracy: 0.8686\n",
            "Epoch 78/115\n",
            "142/142 [==============================] - 7s 47ms/step - loss: 0.3202 - accuracy: 0.8645 - val_loss: 0.3070 - val_accuracy: 0.8624\n",
            "Epoch 79/115\n",
            "142/142 [==============================] - 7s 46ms/step - loss: 0.3204 - accuracy: 0.8625 - val_loss: 0.2999 - val_accuracy: 0.8673\n",
            "Epoch 80/115\n",
            "142/142 [==============================] - 7s 46ms/step - loss: 0.3204 - accuracy: 0.8636 - val_loss: 0.3046 - val_accuracy: 0.8650\n",
            "Epoch 81/115\n",
            "142/142 [==============================] - 7s 46ms/step - loss: 0.3241 - accuracy: 0.8604 - val_loss: 0.3057 - val_accuracy: 0.8690\n",
            "Epoch 82/115\n",
            "142/142 [==============================] - 7s 46ms/step - loss: 0.3197 - accuracy: 0.8627 - val_loss: 0.3166 - val_accuracy: 0.8575\n",
            "Epoch 83/115\n",
            "142/142 [==============================] - 6s 46ms/step - loss: 0.3237 - accuracy: 0.8625 - val_loss: 0.3019 - val_accuracy: 0.8695\n",
            "Epoch 84/115\n",
            "142/142 [==============================] - 7s 46ms/step - loss: 0.3196 - accuracy: 0.8653 - val_loss: 0.3002 - val_accuracy: 0.8646\n",
            "Epoch 85/115\n",
            "142/142 [==============================] - 7s 46ms/step - loss: 0.3197 - accuracy: 0.8640 - val_loss: 0.3032 - val_accuracy: 0.8673\n",
            "Epoch 86/115\n",
            "142/142 [==============================] - 9s 60ms/step - loss: 0.3192 - accuracy: 0.8649 - val_loss: 0.3248 - val_accuracy: 0.8584\n",
            "Epoch 87/115\n",
            "142/142 [==============================] - 7s 46ms/step - loss: 0.3177 - accuracy: 0.8630 - val_loss: 0.3039 - val_accuracy: 0.8633\n",
            "Epoch 88/115\n",
            "142/142 [==============================] - 7s 47ms/step - loss: 0.3150 - accuracy: 0.8636 - val_loss: 0.3041 - val_accuracy: 0.8659\n",
            "Epoch 89/115\n",
            "142/142 [==============================] - 7s 46ms/step - loss: 0.3152 - accuracy: 0.8645 - val_loss: 0.2994 - val_accuracy: 0.8664\n",
            "Epoch 90/115\n",
            "142/142 [==============================] - 7s 46ms/step - loss: 0.3179 - accuracy: 0.8630 - val_loss: 0.2971 - val_accuracy: 0.8735\n",
            "Epoch 91/115\n",
            "142/142 [==============================] - 7s 46ms/step - loss: 0.3193 - accuracy: 0.8624 - val_loss: 0.3012 - val_accuracy: 0.8690\n",
            "Epoch 92/115\n",
            "142/142 [==============================] - 7s 46ms/step - loss: 0.3167 - accuracy: 0.8650 - val_loss: 0.2991 - val_accuracy: 0.8721\n",
            "Epoch 93/115\n",
            "142/142 [==============================] - 7s 47ms/step - loss: 0.3171 - accuracy: 0.8660 - val_loss: 0.2975 - val_accuracy: 0.8704\n",
            "Epoch 94/115\n",
            "142/142 [==============================] - 7s 46ms/step - loss: 0.3187 - accuracy: 0.8652 - val_loss: 0.3012 - val_accuracy: 0.8686\n",
            "Epoch 95/115\n",
            "142/142 [==============================] - 7s 47ms/step - loss: 0.3160 - accuracy: 0.8618 - val_loss: 0.2987 - val_accuracy: 0.8690\n",
            "Epoch 96/115\n",
            "142/142 [==============================] - 7s 46ms/step - loss: 0.3137 - accuracy: 0.8628 - val_loss: 0.2997 - val_accuracy: 0.8628\n",
            "Epoch 97/115\n",
            "142/142 [==============================] - 8s 56ms/step - loss: 0.3130 - accuracy: 0.8671 - val_loss: 0.2949 - val_accuracy: 0.8730\n",
            "Epoch 98/115\n",
            "142/142 [==============================] - 7s 50ms/step - loss: 0.3149 - accuracy: 0.8654 - val_loss: 0.2985 - val_accuracy: 0.8659\n",
            "Epoch 99/115\n",
            "142/142 [==============================] - 7s 46ms/step - loss: 0.3142 - accuracy: 0.8646 - val_loss: 0.2927 - val_accuracy: 0.8708\n",
            "Epoch 100/115\n",
            "142/142 [==============================] - 7s 46ms/step - loss: 0.3170 - accuracy: 0.8618 - val_loss: 0.3048 - val_accuracy: 0.8619\n",
            "Epoch 101/115\n",
            "142/142 [==============================] - 7s 47ms/step - loss: 0.3136 - accuracy: 0.8665 - val_loss: 0.3006 - val_accuracy: 0.8699\n",
            "Epoch 102/115\n",
            "142/142 [==============================] - 7s 47ms/step - loss: 0.3129 - accuracy: 0.8663 - val_loss: 0.3061 - val_accuracy: 0.8655\n",
            "Epoch 103/115\n",
            "142/142 [==============================] - 7s 47ms/step - loss: 0.3147 - accuracy: 0.8676 - val_loss: 0.2960 - val_accuracy: 0.8659\n",
            "Epoch 104/115\n",
            "142/142 [==============================] - 7s 47ms/step - loss: 0.3169 - accuracy: 0.8640 - val_loss: 0.3102 - val_accuracy: 0.8659\n",
            "Epoch 105/115\n",
            "142/142 [==============================] - 7s 47ms/step - loss: 0.3161 - accuracy: 0.8656 - val_loss: 0.3090 - val_accuracy: 0.8633\n",
            "Epoch 106/115\n",
            "142/142 [==============================] - 7s 47ms/step - loss: 0.3121 - accuracy: 0.8667 - val_loss: 0.2969 - val_accuracy: 0.8712\n",
            "Epoch 107/115\n",
            "142/142 [==============================] - 7s 48ms/step - loss: 0.3132 - accuracy: 0.8665 - val_loss: 0.2912 - val_accuracy: 0.8735\n",
            "Epoch 108/115\n",
            "142/142 [==============================] - 9s 61ms/step - loss: 0.3168 - accuracy: 0.8642 - val_loss: 0.2920 - val_accuracy: 0.8730\n",
            "Epoch 109/115\n",
            "142/142 [==============================] - 7s 47ms/step - loss: 0.3143 - accuracy: 0.8651 - val_loss: 0.2942 - val_accuracy: 0.8726\n",
            "Epoch 110/115\n",
            "142/142 [==============================] - 7s 47ms/step - loss: 0.3097 - accuracy: 0.8674 - val_loss: 0.2901 - val_accuracy: 0.8757\n",
            "Epoch 111/115\n",
            "142/142 [==============================] - 7s 47ms/step - loss: 0.3144 - accuracy: 0.8666 - val_loss: 0.2940 - val_accuracy: 0.8659\n",
            "Epoch 112/115\n",
            "142/142 [==============================] - 7s 47ms/step - loss: 0.3156 - accuracy: 0.8648 - val_loss: 0.2925 - val_accuracy: 0.8757\n",
            "Epoch 113/115\n",
            "142/142 [==============================] - 7s 46ms/step - loss: 0.3136 - accuracy: 0.8655 - val_loss: 0.2894 - val_accuracy: 0.8739\n",
            "Epoch 114/115\n",
            "142/142 [==============================] - 7s 46ms/step - loss: 0.3092 - accuracy: 0.8698 - val_loss: 0.2892 - val_accuracy: 0.8712\n",
            "Epoch 115/115\n",
            "142/142 [==============================] - 7s 47ms/step - loss: 0.3101 - accuracy: 0.8684 - val_loss: 0.2947 - val_accuracy: 0.8708\n"
          ]
        },
        {
          "output_type": "stream",
          "name": "stderr",
          "text": [
            "WARNING:absl:Found untraced functions such as _jit_compiled_convolution_op, _jit_compiled_convolution_op, _jit_compiled_convolution_op while saving (showing 3 of 3). These functions will not be directly callable after loading.\n"
          ]
        }
      ]
    },
    {
      "cell_type": "code",
      "source": [
        "# Evaluate the model\n",
        "loss, acc = model_adam_dropout.evaluate(X_validation, y_validation, verbose=2)\n",
        "print(\"Untrained model, accuracy: {:5.2f}%\".format(100 * acc))"
      ],
      "metadata": {
        "colab": {
          "base_uri": "https://localhost:8080/"
        },
        "id": "1VN7JCNDjEvM",
        "outputId": "79657245-6885-4db2-c37c-5d36ca129a62"
      },
      "execution_count": null,
      "outputs": [
        {
          "output_type": "stream",
          "name": "stdout",
          "text": [
            "71/71 - 0s - loss: 0.2738 - accuracy: 0.8876 - 288ms/epoch - 4ms/step\n",
            "Untrained model, accuracy: 88.76%\n"
          ]
        }
      ]
    },
    {
      "cell_type": "code",
      "source": [
        "plt.figure(figsize = (10,4))\n",
        "plt.subplot(121)\n",
        "plt.plot(history_adam_droupout.epoch, history_adam_droupout.history[\"loss\"], 'g', label='Training loss')\n",
        "plt.plot(history_adam_droupout.epoch, history_adam_droupout.history[\"val_loss\"], 'b', label='Test loss')\n",
        "plt.title('Training loss')\n",
        "plt.xlabel('Epochs')\n",
        "plt.ylabel('Loss')\n",
        "plt.legend()\n",
        "\n",
        "plt.subplot(122)\n",
        "plt.plot(history_adam_droupout.epoch, history_adam_droupout.history[\"accuracy\"], 'r', label='Training accuracy')\n",
        "plt.plot(history_adam_droupout.epoch, history_adam_droupout.history[\"val_accuracy\"], 'orange', label='Test accuracy')\n",
        "plt.title('Training accuracy')\n",
        "plt.xlabel('Epochs')\n",
        "plt.ylabel('Accuracy')\n",
        "plt.legend()\n",
        "plt.savefig(work_folder + \"base_model_deep_dropout_adam.png\")\n",
        "plt.show()"
      ],
      "metadata": {
        "colab": {
          "base_uri": "https://localhost:8080/",
          "height": 295
        },
        "id": "JdG99rWyjEog",
        "outputId": "8d52ea5c-7756-4895-8bcf-31eaa05eb117"
      },
      "execution_count": null,
      "outputs": [
        {
          "output_type": "display_data",
          "data": {
            "text/plain": [
              "<Figure size 720x288 with 2 Axes>"
            ],
            "image/png": "[encoded data removed]"
          },
          "metadata": {
            "needs_background": "light"
          }
        }
      ]
    },
    {
      "cell_type": "code",
      "execution_count": null,
      "metadata": {
        "id": "PuhsVh_nR9l8"
      },
      "outputs": [],
      "source": []
    }
  ],
  "metadata": {
    "colab": {
      "provenance": []
    },
    "kernelspec": {
      "display_name": "Python 3",
      "name": "python3"
    },
    "language_info": {
      "name": "python"
    }
  },
  "nbformat": 4,
  "nbformat_minor": 0
}